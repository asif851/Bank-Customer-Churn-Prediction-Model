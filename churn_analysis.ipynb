{
 "cells": [
  {
   "cell_type": "code",
   "execution_count": null,
   "metadata": {
    "id": "9weRyITiRpme"
   },
   "outputs": [],
   "source": [
    "## import necessary modules\n",
    "\n",
    "import pandas as pd\n",
    "import numpy as np\n",
    "import matplotlib.pyplot as plt \n",
    "import seaborn as sns\n",
    "sns.set_style('darkgrid')"
   ]
  },
  {
   "cell_type": "code",
   "execution_count": null,
   "metadata": {
    "colab": {
     "base_uri": "https://localhost:8080/",
     "height": 224
    },
    "id": "unzd0rvQR2kR",
    "outputId": "cb8d8f25-56f9-4d73-ec5d-3f45f82769dc"
   },
   "outputs": [],
   "source": [
    "#import csv file\n",
    "\n",
    "df=pd.read_csv(\"Churn_Modelling.csv\")\n",
    "df.head()\n"
   ]
  },
  {
   "cell_type": "code",
   "execution_count": null,
   "metadata": {
    "colab": {
     "base_uri": "https://localhost:8080/"
    },
    "id": "6Vz0bwK66ITt",
    "outputId": "6e8ef88d-bc59-45c5-aad3-55d272acae5f"
   },
   "outputs": [],
   "source": [
    "#No. of rows and columns\n",
    "\n",
    "df.shape"
   ]
  },
  {
   "cell_type": "markdown",
   "metadata": {
    "id": "cXDUG6ex54GD"
   },
   "source": [
    "**Analyze Each Feature**"
   ]
  },
  {
   "cell_type": "code",
   "execution_count": null,
   "metadata": {
    "colab": {
     "base_uri": "https://localhost:8080/",
     "height": 317
    },
    "id": "o9Xnzx5c6Qsr",
    "outputId": "40ee1b96-9f82-4c51-d977-c04a929094c4"
   },
   "outputs": [],
   "source": [
    "df.describe()"
   ]
  },
  {
   "cell_type": "code",
   "execution_count": null,
   "metadata": {},
   "outputs": [],
   "source": [
    "plt.figure(figsize=(12,7))\n",
    "sns.heatmap(df.corr(numeric_only = True), annot=True)"
   ]
  },
  {
   "cell_type": "markdown",
   "metadata": {
    "id": "1w-IS0Uqb-5z"
   },
   "source": [
    "**Geography**"
   ]
  },
  {
   "cell_type": "code",
   "execution_count": null,
   "metadata": {
    "colab": {
     "base_uri": "https://localhost:8080/"
    },
    "id": "T4Su5MTrb46H",
    "outputId": "f938f05c-e6ca-49ad-d04f-46eed8fb818b"
   },
   "outputs": [],
   "source": [
    "df[\"Geography\"].unique()"
   ]
  },
  {
   "cell_type": "code",
   "execution_count": null,
   "metadata": {
    "colab": {
     "base_uri": "https://localhost:8080/"
    },
    "id": "RwAPT0Wla5xd",
    "outputId": "321ab7e5-be4c-4cd3-d9ef-e15a3428e8c7"
   },
   "outputs": [],
   "source": [
    "df[\"Geography\"].value_counts()"
   ]
  },
  {
   "cell_type": "code",
   "execution_count": null,
   "metadata": {
    "colab": {
     "base_uri": "https://localhost:8080/",
     "height": 369
    },
    "id": "XBsRxVEzbj0Z",
    "outputId": "6f028125-a55e-42e2-9dc7-0f4b0c0d45da"
   },
   "outputs": [],
   "source": [
    "plt.figure(figsize=(7,5))\n",
    "sns.countplot(x='Geography',data=df).set_title(\"Geography\",fontsize=15,fontdict={\"weight\": \"bold\"})"
   ]
  },
  {
   "cell_type": "code",
   "execution_count": null,
   "metadata": {
    "colab": {
     "base_uri": "https://localhost:8080/",
     "height": 369
    },
    "id": "i3-QmKihesMC",
    "outputId": "312bf1d1-d77d-4900-b49d-8f1fe3933903"
   },
   "outputs": [],
   "source": [
    "plt.figure(figsize=(7,5))\n",
    "sns.countplot(x=\"Geography\",hue=\"Exited\",data=df,palette='bright').set_title(\"No. of Customer (Exited vs Non Exited)\",fontsize=15,fontdict={\"weight\": \"bold\"})"
   ]
  },
  {
   "cell_type": "markdown",
   "metadata": {
    "id": "vY__0cp-cQni"
   },
   "source": [
    "**Gender**"
   ]
  },
  {
   "cell_type": "code",
   "execution_count": null,
   "metadata": {
    "colab": {
     "base_uri": "https://localhost:8080/"
    },
    "id": "SbzX6nIGcKO0",
    "outputId": "22536695-073d-4e02-c838-f0c601b512f1"
   },
   "outputs": [],
   "source": [
    "df['Gender'].value_counts()"
   ]
  },
  {
   "cell_type": "code",
   "execution_count": null,
   "metadata": {
    "colab": {
     "base_uri": "https://localhost:8080/",
     "height": 369
    },
    "id": "C7a6GZJbcWxT",
    "outputId": "cfb4593d-4994-47f1-d887-7f23b56d8f8d"
   },
   "outputs": [],
   "source": [
    "plt.figure(figsize=(7,5))\n",
    "sns.countplot(x='Gender',order=[\"Male\",\"Female\"],data=df).set_title(\"Gender\",fontsize=15,fontdict={\"weight\": \"bold\"})"
   ]
  },
  {
   "cell_type": "code",
   "execution_count": null,
   "metadata": {
    "colab": {
     "base_uri": "https://localhost:8080/",
     "height": 369
    },
    "id": "yo27LO8pdxyG",
    "outputId": "710b0118-c9d9-4652-9187-21d47e4b6598"
   },
   "outputs": [],
   "source": [
    "plt.figure(figsize=(7,5))\n",
    "sns.countplot(x=\"Gender\",hue=\"Exited\",data=df,palette='bright',order=[\"Male\",\"Female\"]).set_title(\"No. of Customer (Exited vs Non Exited)\",fontsize=15,fontdict={\"weight\": \"bold\"})"
   ]
  },
  {
   "cell_type": "markdown",
   "metadata": {
    "id": "oH1NHuncbWhe"
   },
   "source": [
    "**Gender-Geography**"
   ]
  },
  {
   "cell_type": "code",
   "execution_count": null,
   "metadata": {
    "colab": {
     "base_uri": "https://localhost:8080/",
     "height": 386
    },
    "id": "NXx6v70ydcLX",
    "outputId": "92285fde-64b9-44bd-fcc3-6cbebf304f6e"
   },
   "outputs": [],
   "source": [
    "g = sns.FacetGrid(data=df, col=\"Geography\", height=5, aspect=1)\n",
    "g.map(sns.countplot, \"Gender\",  order=[\"Male\", \"Female\"])"
   ]
  },
  {
   "cell_type": "code",
   "execution_count": null,
   "metadata": {
    "colab": {
     "base_uri": "https://localhost:8080/",
     "height": 386
    },
    "id": "3RSEVUT0JHOJ",
    "outputId": "eb84a26d-2b13-439a-aeef-80619bfc1029"
   },
   "outputs": [],
   "source": [
    "g = sns.FacetGrid(data=df, col=\"Geography\", height=5, aspect=1)\n",
    "g.map(sns.countplot, \"Gender\",hue=\"Exited\" ,data=df,order=[\"Male\", \"Female\"],palette=\"dark\")\n",
    "g.add_legend()  # 0 stands for Not Exited , 1 stands for Exited "
   ]
  },
  {
   "cell_type": "markdown",
   "metadata": {
    "id": "0iU83vNwdjJW"
   },
   "source": [
    "**Age**"
   ]
  },
  {
   "cell_type": "code",
   "execution_count": null,
   "metadata": {
    "colab": {
     "base_uri": "https://localhost:8080/"
    },
    "id": "1GgbljT-dcQU",
    "outputId": "30caf15e-0181-47d9-bc38-bf06f49974be"
   },
   "outputs": [],
   "source": [
    "df['Age'].unique()"
   ]
  },
  {
   "cell_type": "code",
   "execution_count": null,
   "metadata": {
    "colab": {
     "base_uri": "https://localhost:8080/",
     "height": 386
    },
    "id": "dwGKrkxXs3vp",
    "outputId": "ed34980c-9fd9-4a2e-d07b-b0cdb857ea31"
   },
   "outputs": [],
   "source": [
    "sns.displot(data=df, x=\"Age\",height=5, aspect=2)"
   ]
  },
  {
   "cell_type": "code",
   "execution_count": null,
   "metadata": {
    "colab": {
     "base_uri": "https://localhost:8080/",
     "height": 386
    },
    "id": "0hcuoIdadcXG",
    "outputId": "11171429-98b0-4862-ec38-f8e3022d54fa"
   },
   "outputs": [],
   "source": [
    "sns.displot(data=df, x=\"Age\",hue=\"Exited\",kind=\"hist\",kde=True,palette=\"bright\",height=5, aspect=2)"
   ]
  },
  {
   "cell_type": "markdown",
   "metadata": {
    "id": "6bVt5xzCgJXD"
   },
   "source": [
    "**No. of Product**"
   ]
  },
  {
   "cell_type": "code",
   "execution_count": null,
   "metadata": {
    "colab": {
     "base_uri": "https://localhost:8080/",
     "height": 369
    },
    "id": "yXb4KoI7dceV",
    "outputId": "e82888a5-85c1-4f78-aabd-f61a96d3fb19"
   },
   "outputs": [],
   "source": [
    "plt.figure(figsize=(7,5))\n",
    "sns.countplot(x=\"NumOfProducts\",data=df).set_title(\"No. of Product\",fontsize=15,fontdict={\"weight\": \"bold\"})"
   ]
  },
  {
   "cell_type": "code",
   "execution_count": null,
   "metadata": {
    "colab": {
     "base_uri": "https://localhost:8080/",
     "height": 369
    },
    "id": "7xEVtgY4dchm",
    "outputId": "f7b1ffd4-0e9a-433f-886c-ffab9f1676bc"
   },
   "outputs": [],
   "source": [
    "plt.figure(figsize=(7,5))\n",
    "sns.countplot(x=\"NumOfProducts\",hue=\"Exited\",data=df,palette='bright').set_title(\"No. of Customer (Exited vs Non Exited)\",fontsize=15,fontdict={\"weight\": \"bold\"})"
   ]
  },
  {
   "cell_type": "markdown",
   "metadata": {
    "id": "nTNMQ3f3la1M"
   },
   "source": [
    "**Tenure**"
   ]
  },
  {
   "cell_type": "code",
   "execution_count": null,
   "metadata": {
    "colab": {
     "base_uri": "https://localhost:8080/",
     "height": 369
    },
    "id": "k2Z_HcxTlpjO",
    "outputId": "4ca4aa90-c4d5-430d-9fdb-bfd7c4231aa0"
   },
   "outputs": [],
   "source": [
    "plt.figure(figsize=(7,5))\n",
    "sns.countplot(x=\"Tenure\",data=df).set_title(\"Tenure\",fontsize=15,fontdict={\"weight\": \"bold\"})"
   ]
  },
  {
   "cell_type": "code",
   "execution_count": null,
   "metadata": {
    "colab": {
     "base_uri": "https://localhost:8080/",
     "height": 369
    },
    "id": "18AZFYgHly5W",
    "outputId": "211424ab-6943-4ef2-ed83-822472a00c38"
   },
   "outputs": [],
   "source": [
    "plt.figure(figsize=(7,5))\n",
    "sns.countplot(x=\"Tenure\",hue=\"Exited\",data=df,palette='bright').set_title(\"No. of Customer (Exited vs Non Exited)\",fontsize=15,fontdict={\"weight\": \"bold\"})"
   ]
  },
  {
   "cell_type": "code",
   "execution_count": null,
   "metadata": {
    "id": "OlajA_-5lpvz"
   },
   "outputs": [],
   "source": []
  },
  {
   "cell_type": "markdown",
   "metadata": {
    "id": "9_0HOA_RmCMG"
   },
   "source": [
    "**Credit Card Holder**"
   ]
  },
  {
   "cell_type": "code",
   "execution_count": null,
   "metadata": {
    "colab": {
     "base_uri": "https://localhost:8080/",
     "height": 314
    },
    "id": "B58Jxjwolp0J",
    "outputId": "41365605-44e2-4bd7-a4d6-c3c9a716216f"
   },
   "outputs": [],
   "source": [
    "sns.countplot(x=\"HasCrCard\",data=df,palette='bright').set_title(\"No.of  Credit Card Holder\",fontsize=15,fontdict={\"weight\": \"bold\"})"
   ]
  },
  {
   "cell_type": "code",
   "execution_count": null,
   "metadata": {
    "colab": {
     "base_uri": "https://localhost:8080/",
     "height": 314
    },
    "id": "g38SKODQmN5z",
    "outputId": "b9883301-6b04-4060-d973-6b47036933bb"
   },
   "outputs": [],
   "source": [
    "sns.countplot(x=\"HasCrCard\",hue=\"Exited\",data=df,palette='bright').set_title(\"No. of Customer (Exited vs Non Exited)\",fontsize=15,fontdict={\"weight\": \"bold\"})"
   ]
  },
  {
   "cell_type": "markdown",
   "metadata": {
    "id": "OskmUuoqmcLX"
   },
   "source": [
    "**Active Member**"
   ]
  },
  {
   "cell_type": "code",
   "execution_count": null,
   "metadata": {
    "colab": {
     "base_uri": "https://localhost:8080/",
     "height": 314
    },
    "id": "KGgPUHq1mhZ0",
    "outputId": "d7150c83-8eac-4210-c98b-bad02031b5ba"
   },
   "outputs": [],
   "source": [
    "sns.countplot(x=\"IsActiveMember\",data=df,palette='bright').set_title(\"ActiveMember\",fontsize=15,fontdict={\"weight\": \"bold\"})"
   ]
  },
  {
   "cell_type": "code",
   "execution_count": null,
   "metadata": {
    "colab": {
     "base_uri": "https://localhost:8080/",
     "height": 314
    },
    "id": "EuoKnnfUmhja",
    "outputId": "116df136-b7ab-4f32-b236-2f787e25710f"
   },
   "outputs": [],
   "source": [
    "sns.countplot(x=\"IsActiveMember\",hue=\"Exited\",data=df,palette='bright').set_title(\"No. of Customer (Exited vs Non Exited)\",fontsize=15,fontdict={\"weight\": \"bold\"})"
   ]
  },
  {
   "cell_type": "markdown",
   "metadata": {
    "id": "fYPz4zqAI-Uc"
   },
   "source": [
    "**CreditScore**"
   ]
  },
  {
   "cell_type": "code",
   "execution_count": null,
   "metadata": {
    "colab": {
     "base_uri": "https://localhost:8080/",
     "height": 386
    },
    "id": "cn4uASTzLOmm",
    "outputId": "090e1684-311b-4061-ead2-55ac06f3cdb2"
   },
   "outputs": [],
   "source": [
    "\n",
    "sns.displot(data=df, x=\"CreditScore\",hue=\"Exited\",palette=\"bright\",kind=\"hist\",kde=True,height=5, aspect=2)"
   ]
  },
  {
   "cell_type": "markdown",
   "metadata": {
    "id": "OsJotuj6NIfb"
   },
   "source": [
    "**Balance**"
   ]
  },
  {
   "cell_type": "code",
   "execution_count": null,
   "metadata": {
    "colab": {
     "base_uri": "https://localhost:8080/",
     "height": 386
    },
    "id": "kuKwbrChI9Fz",
    "outputId": "0a71e4be-260f-4a02-8408-88f024bb5a4b"
   },
   "outputs": [],
   "source": [
    "sns.displot(data=df, x=\"Balance\",hue=\"Exited\",kind=\"hist\",kde=True,height=5, aspect=2,palette=\"bright\")"
   ]
  },
  {
   "cell_type": "markdown",
   "metadata": {
    "id": "XsFAYBirOdHR"
   },
   "source": [
    "**EstimatedSalary**"
   ]
  },
  {
   "cell_type": "code",
   "execution_count": null,
   "metadata": {
    "colab": {
     "base_uri": "https://localhost:8080/",
     "height": 386
    },
    "id": "JFhwd5kpOcpv",
    "outputId": "acdf1cc0-4362-4f0e-e826-1133fc181205"
   },
   "outputs": [],
   "source": [
    "sns.displot(data=df, x=\"EstimatedSalary\",hue=\"Exited\",kind=\"hist\",kde=True,height=5, aspect=2)"
   ]
  }
 ],
 "metadata": {
  "accelerator": "GPU",
  "colab": {
   "authorship_tag": "ABX9TyNUMPau9k3vbRj0oJT4OEuw",
   "collapsed_sections": [],
   "include_colab_link": true,
   "mount_file_id": "1ruH3ZcpDGDE56X7nky6KyY-zuE1H014H",
   "name": "churn_analysis.ipynb",
   "provenance": []
  },
  "kernelspec": {
   "display_name": "Python 3 (ipykernel)",
   "language": "python",
   "name": "python3"
  },
  "language_info": {
   "codemirror_mode": {
    "name": "ipython",
    "version": 3
   },
   "file_extension": ".py",
   "mimetype": "text/x-python",
   "name": "python",
   "nbconvert_exporter": "python",
   "pygments_lexer": "ipython3",
   "version": "3.10.9"
  }
 },
 "nbformat": 4,
 "nbformat_minor": 1
}
