{
 "cells": [
  {
   "cell_type": "code",
   "execution_count": 1,
   "id": "bedfe093",
   "metadata": {},
   "outputs": [
    {
     "name": "stdout",
     "output_type": "stream",
     "text": [
      " * Serving Flask app '__main__'\n",
      " * Debug mode: off\n"
     ]
    },
    {
     "name": "stderr",
     "output_type": "stream",
     "text": [
      "\u001b[31m\u001b[1mWARNING: This is a development server. Do not use it in a production deployment. Use a production WSGI server instead.\u001b[0m\n",
      " * Running on http://localhost:4000\n",
      "\u001b[33mPress CTRL+C to quit\u001b[0m\n",
      "127.0.0.1 - - [24/Aug/2023 00:09:25] \"GET / HTTP/1.1\" 200 -\n",
      "127.0.0.1 - - [24/Aug/2023 00:09:26] \"\u001b[33mGET /favicon.ico HTTP/1.1\u001b[0m\" 404 -\n",
      "127.0.0.1 - - [24/Aug/2023 00:10:43] \"GET / HTTP/1.1\" 200 -\n",
      "127.0.0.1 - - [24/Aug/2023 00:10:44] \"GET / HTTP/1.1\" 200 -\n",
      "127.0.0.1 - - [24/Aug/2023 00:10:46] \"GET / HTTP/1.1\" 200 -\n",
      "127.0.0.1 - - [24/Aug/2023 00:10:47] \"GET / HTTP/1.1\" 200 -\n",
      "127.0.0.1 - - [24/Aug/2023 00:10:48] \"GET / HTTP/1.1\" 200 -\n",
      "127.0.0.1 - - [24/Aug/2023 00:10:49] \"GET / HTTP/1.1\" 200 -\n",
      "127.0.0.1 - - [24/Aug/2023 00:10:49] \"GET / HTTP/1.1\" 200 -\n",
      "127.0.0.1 - - [24/Aug/2023 00:11:51] \"POST /predict HTTP/1.1\" 200 -\n",
      "127.0.0.1 - - [24/Aug/2023 00:13:14] \"GET / HTTP/1.1\" 200 -\n",
      "127.0.0.1 - - [24/Aug/2023 00:13:17] \"GET / HTTP/1.1\" 200 -\n"
     ]
    }
   ],
   "source": [
    "import numpy as np\n",
    "from flask import Flask, request, render_template\n",
    "import pickle\n",
    "\n",
    "app = Flask(__name__)\n",
    "model = pickle.load(open('pickle.pkl', 'rb'))\n",
    "    \n",
    "@app.route('/')\n",
    "def home():\n",
    "    return render_template('home.html')\n",
    "   \n",
    "\n",
    "@app.route('/predict', methods=['POST'])\n",
    "def predict():\n",
    "    if request.method == 'POST':\n",
    "        \n",
    "        CreditScore=int(request.form[\"CreditScore\"])\n",
    "        Geography=int(request.form[\"Geography\"])\n",
    "        Gender=int(request.form[\"Gender\"])\n",
    "        Age=int(request.form[\"Age\"])\n",
    "        Tenure=int(request.form[\"Tenure\"])\n",
    "        Balance=float(request.form[\"Balance\"])\n",
    "        NumOfProducts=int(request.form[\"NumOfProducts\"])\n",
    "        HasCrCard=int(request.form[\"HasCrCard\"])\n",
    "        IsActiveMember=int(request.form[\"IsActiveMember\"])\n",
    "        EstimatedSalary=float(request.form[\"EstimatedSalary\"])\n",
    "        \n",
    "                      \n",
    "        data = np.array([[CreditScore,Geography,Gender,Age,Tenure,Balance,NumOfProducts,HasCrCard,IsActiveMember,EstimatedSalary]])\n",
    "        my_prediction = model.predict(data)\n",
    "        \n",
    "        return render_template('result.html', prediction=my_prediction)\n",
    "              \n",
    "if __name__ == '__main__':\n",
    "    app.run(host=\"localhost\", port=4000)"
   ]
  }
 ],
 "metadata": {
  "kernelspec": {
   "display_name": "Python 3 (ipykernel)",
   "language": "python",
   "name": "python3"
  },
  "language_info": {
   "codemirror_mode": {
    "name": "ipython",
    "version": 3
   },
   "file_extension": ".py",
   "mimetype": "text/x-python",
   "name": "python",
   "nbconvert_exporter": "python",
   "pygments_lexer": "ipython3",
   "version": "3.11.3"
  }
 },
 "nbformat": 4,
 "nbformat_minor": 5
}
