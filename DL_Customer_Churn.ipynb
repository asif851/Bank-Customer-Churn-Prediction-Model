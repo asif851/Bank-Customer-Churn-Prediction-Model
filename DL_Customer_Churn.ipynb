{
 "cells": [
  {
   "cell_type": "code",
<<<<<<< HEAD
   "execution_count": 44,
=======
   "execution_count": 36,
>>>>>>> 0f0acaf (added code)
   "metadata": {
    "id": "yfJWoPuTBYNk"
   },
   "outputs": [],
   "source": [
    "## import necessary modules\n",
    "\n",
    "import pandas as pd\n",
    "import numpy as np\n",
    "import matplotlib.pyplot as plt \n",
    "import seaborn as sns\n",
    "\n",
    "sns.set_style('darkgrid')"
   ]
  },
  {
   "cell_type": "code",
<<<<<<< HEAD
   "execution_count": 45,
=======
   "execution_count": 37,
>>>>>>> 0f0acaf (added code)
   "metadata": {
    "colab": {
     "base_uri": "https://localhost:8080/",
     "height": 226
    },
    "id": "eFseTJ9NBwoh",
    "outputId": "9b1c39b9-1108-41b7-dd33-727c0bed48e3"
   },
   "outputs": [
    {
     "data": {
      "text/html": [
       "<div>\n",
       "<style scoped>\n",
       "    .dataframe tbody tr th:only-of-type {\n",
       "        vertical-align: middle;\n",
       "    }\n",
       "\n",
       "    .dataframe tbody tr th {\n",
       "        vertical-align: top;\n",
       "    }\n",
       "\n",
       "    .dataframe thead th {\n",
       "        text-align: right;\n",
       "    }\n",
       "</style>\n",
       "<table border=\"1\" class=\"dataframe\">\n",
       "  <thead>\n",
       "    <tr style=\"text-align: right;\">\n",
       "      <th></th>\n",
       "      <th>RowNumber</th>\n",
       "      <th>CustomerId</th>\n",
       "      <th>Surname</th>\n",
       "      <th>CreditScore</th>\n",
       "      <th>Geography</th>\n",
       "      <th>Gender</th>\n",
       "      <th>Age</th>\n",
       "      <th>Tenure</th>\n",
       "      <th>Balance</th>\n",
       "      <th>NumOfProducts</th>\n",
       "      <th>HasCrCard</th>\n",
       "      <th>IsActiveMember</th>\n",
       "      <th>EstimatedSalary</th>\n",
       "      <th>Exited</th>\n",
       "    </tr>\n",
       "  </thead>\n",
       "  <tbody>\n",
       "    <tr>\n",
       "      <th>0</th>\n",
       "      <td>1</td>\n",
       "      <td>15634602</td>\n",
       "      <td>Hargrave</td>\n",
       "      <td>619</td>\n",
       "      <td>France</td>\n",
       "      <td>Female</td>\n",
       "      <td>42</td>\n",
       "      <td>2</td>\n",
       "      <td>0.00</td>\n",
       "      <td>1</td>\n",
       "      <td>1</td>\n",
       "      <td>1</td>\n",
       "      <td>101348.88</td>\n",
       "      <td>1</td>\n",
       "    </tr>\n",
       "    <tr>\n",
       "      <th>1</th>\n",
       "      <td>2</td>\n",
       "      <td>15647311</td>\n",
       "      <td>Hill</td>\n",
       "      <td>608</td>\n",
       "      <td>Spain</td>\n",
       "      <td>Female</td>\n",
       "      <td>41</td>\n",
       "      <td>1</td>\n",
       "      <td>83807.86</td>\n",
       "      <td>1</td>\n",
       "      <td>0</td>\n",
       "      <td>1</td>\n",
       "      <td>112542.58</td>\n",
       "      <td>0</td>\n",
       "    </tr>\n",
       "    <tr>\n",
       "      <th>2</th>\n",
       "      <td>3</td>\n",
       "      <td>15619304</td>\n",
       "      <td>Onio</td>\n",
       "      <td>502</td>\n",
       "      <td>France</td>\n",
       "      <td>Female</td>\n",
       "      <td>42</td>\n",
       "      <td>8</td>\n",
       "      <td>159660.80</td>\n",
       "      <td>3</td>\n",
       "      <td>1</td>\n",
       "      <td>0</td>\n",
       "      <td>113931.57</td>\n",
       "      <td>1</td>\n",
       "    </tr>\n",
       "    <tr>\n",
       "      <th>3</th>\n",
       "      <td>4</td>\n",
       "      <td>15701354</td>\n",
       "      <td>Boni</td>\n",
       "      <td>699</td>\n",
       "      <td>France</td>\n",
       "      <td>Female</td>\n",
       "      <td>39</td>\n",
       "      <td>1</td>\n",
       "      <td>0.00</td>\n",
       "      <td>2</td>\n",
       "      <td>0</td>\n",
       "      <td>0</td>\n",
       "      <td>93826.63</td>\n",
       "      <td>0</td>\n",
       "    </tr>\n",
       "    <tr>\n",
       "      <th>4</th>\n",
       "      <td>5</td>\n",
       "      <td>15737888</td>\n",
       "      <td>Mitchell</td>\n",
       "      <td>850</td>\n",
       "      <td>Spain</td>\n",
       "      <td>Female</td>\n",
       "      <td>43</td>\n",
       "      <td>2</td>\n",
       "      <td>125510.82</td>\n",
       "      <td>1</td>\n",
       "      <td>1</td>\n",
       "      <td>1</td>\n",
       "      <td>79084.10</td>\n",
       "      <td>0</td>\n",
       "    </tr>\n",
       "  </tbody>\n",
       "</table>\n",
       "</div>"
      ],
      "text/plain": [
       "   RowNumber  CustomerId   Surname  CreditScore Geography  Gender  Age  \\\n",
       "0          1    15634602  Hargrave          619    France  Female   42   \n",
       "1          2    15647311      Hill          608     Spain  Female   41   \n",
       "2          3    15619304      Onio          502    France  Female   42   \n",
       "3          4    15701354      Boni          699    France  Female   39   \n",
       "4          5    15737888  Mitchell          850     Spain  Female   43   \n",
       "\n",
       "   Tenure    Balance  NumOfProducts  HasCrCard  IsActiveMember  \\\n",
       "0       2       0.00              1          1               1   \n",
       "1       1   83807.86              1          0               1   \n",
       "2       8  159660.80              3          1               0   \n",
       "3       1       0.00              2          0               0   \n",
       "4       2  125510.82              1          1               1   \n",
       "\n",
       "   EstimatedSalary  Exited  \n",
       "0        101348.88       1  \n",
       "1        112542.58       0  \n",
       "2        113931.57       1  \n",
       "3         93826.63       0  \n",
       "4         79084.10       0  "
      ]
     },
<<<<<<< HEAD
     "execution_count": 45,
=======
     "execution_count": 37,
>>>>>>> 0f0acaf (added code)
     "metadata": {},
     "output_type": "execute_result"
    }
   ],
   "source": [
    "#import csv file\n",
    "\n",
    "df=pd.read_csv('Churn_Modelling.csv')\n",
    "df.head()"
   ]
  },
  {
   "cell_type": "code",
<<<<<<< HEAD
   "execution_count": 46,
=======
   "execution_count": 38,
>>>>>>> 0f0acaf (added code)
   "metadata": {
    "colab": {
     "base_uri": "https://localhost:8080/"
    },
    "id": "oXyi5-P-Bwr-",
    "outputId": "357c8442-81aa-4972-eb9c-6cd1bbbefee3"
   },
   "outputs": [
    {
     "data": {
      "text/plain": [
       "(10000, 14)"
      ]
     },
<<<<<<< HEAD
     "execution_count": 46,
=======
     "execution_count": 38,
>>>>>>> 0f0acaf (added code)
     "metadata": {},
     "output_type": "execute_result"
    }
   ],
   "source": [
    "#No. of rows and columns\n",
    "\n",
    "df.shape"
   ]
  },
  {
   "cell_type": "code",
<<<<<<< HEAD
   "execution_count": 47,
=======
   "execution_count": 39,
>>>>>>> 0f0acaf (added code)
   "metadata": {
    "id": "NE8TS3cVBwxo"
   },
   "outputs": [],
   "source": [
    "# drop unnecessary feature\n",
    "\n",
    "df=df.drop(['RowNumber','CustomerId','Surname'],axis=1)"
   ]
  },
  {
   "cell_type": "code",
<<<<<<< HEAD
   "execution_count": 48,
=======
   "execution_count": 40,
>>>>>>> 0f0acaf (added code)
   "metadata": {
    "colab": {
     "base_uri": "https://localhost:8080/"
    },
    "id": "yA0--PpYTHvt",
    "outputId": "a9831be4-a222-494d-980b-46beadce89ce"
   },
   "outputs": [
    {
     "data": {
      "text/plain": [
       "(10000, 11)"
      ]
     },
<<<<<<< HEAD
     "execution_count": 48,
=======
     "execution_count": 40,
>>>>>>> 0f0acaf (added code)
     "metadata": {},
     "output_type": "execute_result"
    }
   ],
   "source": [
    "df.shape"
   ]
  },
  {
   "cell_type": "code",
<<<<<<< HEAD
   "execution_count": 49,
=======
   "execution_count": 41,
>>>>>>> 0f0acaf (added code)
   "metadata": {
    "colab": {
     "base_uri": "https://localhost:8080/",
     "height": 206
    },
    "id": "hi8po9c2Bw13",
    "outputId": "5f0d14a3-48f7-481d-e463-177522e2023b"
   },
   "outputs": [
    {
     "data": {
      "text/html": [
       "<div>\n",
       "<style scoped>\n",
       "    .dataframe tbody tr th:only-of-type {\n",
       "        vertical-align: middle;\n",
       "    }\n",
       "\n",
       "    .dataframe tbody tr th {\n",
       "        vertical-align: top;\n",
       "    }\n",
       "\n",
       "    .dataframe thead th {\n",
       "        text-align: right;\n",
       "    }\n",
       "</style>\n",
       "<table border=\"1\" class=\"dataframe\">\n",
       "  <thead>\n",
       "    <tr style=\"text-align: right;\">\n",
       "      <th></th>\n",
       "      <th>CreditScore</th>\n",
       "      <th>Geography</th>\n",
       "      <th>Gender</th>\n",
       "      <th>Age</th>\n",
       "      <th>Tenure</th>\n",
       "      <th>Balance</th>\n",
       "      <th>NumOfProducts</th>\n",
       "      <th>HasCrCard</th>\n",
       "      <th>IsActiveMember</th>\n",
       "      <th>EstimatedSalary</th>\n",
       "      <th>Exited</th>\n",
       "    </tr>\n",
       "  </thead>\n",
       "  <tbody>\n",
       "    <tr>\n",
       "      <th>0</th>\n",
       "      <td>619</td>\n",
       "      <td>France</td>\n",
       "      <td>Female</td>\n",
       "      <td>42</td>\n",
       "      <td>2</td>\n",
       "      <td>0.00</td>\n",
       "      <td>1</td>\n",
       "      <td>1</td>\n",
       "      <td>1</td>\n",
       "      <td>101348.88</td>\n",
       "      <td>1</td>\n",
       "    </tr>\n",
       "    <tr>\n",
       "      <th>1</th>\n",
       "      <td>608</td>\n",
       "      <td>Spain</td>\n",
       "      <td>Female</td>\n",
       "      <td>41</td>\n",
       "      <td>1</td>\n",
       "      <td>83807.86</td>\n",
       "      <td>1</td>\n",
       "      <td>0</td>\n",
       "      <td>1</td>\n",
       "      <td>112542.58</td>\n",
       "      <td>0</td>\n",
       "    </tr>\n",
       "    <tr>\n",
       "      <th>2</th>\n",
       "      <td>502</td>\n",
       "      <td>France</td>\n",
       "      <td>Female</td>\n",
       "      <td>42</td>\n",
       "      <td>8</td>\n",
       "      <td>159660.80</td>\n",
       "      <td>3</td>\n",
       "      <td>1</td>\n",
       "      <td>0</td>\n",
       "      <td>113931.57</td>\n",
       "      <td>1</td>\n",
       "    </tr>\n",
       "    <tr>\n",
       "      <th>3</th>\n",
       "      <td>699</td>\n",
       "      <td>France</td>\n",
       "      <td>Female</td>\n",
       "      <td>39</td>\n",
       "      <td>1</td>\n",
       "      <td>0.00</td>\n",
       "      <td>2</td>\n",
       "      <td>0</td>\n",
       "      <td>0</td>\n",
       "      <td>93826.63</td>\n",
       "      <td>0</td>\n",
       "    </tr>\n",
       "    <tr>\n",
       "      <th>4</th>\n",
       "      <td>850</td>\n",
       "      <td>Spain</td>\n",
       "      <td>Female</td>\n",
       "      <td>43</td>\n",
       "      <td>2</td>\n",
       "      <td>125510.82</td>\n",
       "      <td>1</td>\n",
       "      <td>1</td>\n",
       "      <td>1</td>\n",
       "      <td>79084.10</td>\n",
       "      <td>0</td>\n",
       "    </tr>\n",
       "  </tbody>\n",
       "</table>\n",
       "</div>"
      ],
      "text/plain": [
       "   CreditScore Geography  Gender  Age  Tenure    Balance  NumOfProducts  \\\n",
       "0          619    France  Female   42       2       0.00              1   \n",
       "1          608     Spain  Female   41       1   83807.86              1   \n",
       "2          502    France  Female   42       8  159660.80              3   \n",
       "3          699    France  Female   39       1       0.00              2   \n",
       "4          850     Spain  Female   43       2  125510.82              1   \n",
       "\n",
       "   HasCrCard  IsActiveMember  EstimatedSalary  Exited  \n",
       "0          1               1        101348.88       1  \n",
       "1          0               1        112542.58       0  \n",
       "2          1               0        113931.57       1  \n",
       "3          0               0         93826.63       0  \n",
       "4          1               1         79084.10       0  "
      ]
     },
<<<<<<< HEAD
     "execution_count": 49,
=======
     "execution_count": 41,
>>>>>>> 0f0acaf (added code)
     "metadata": {},
     "output_type": "execute_result"
    }
   ],
   "source": [
    "df.head()"
   ]
  },
  {
   "cell_type": "code",
<<<<<<< HEAD
   "execution_count": 50,
=======
   "execution_count": 42,
>>>>>>> 0f0acaf (added code)
   "metadata": {
    "id": "4IFTUkmqUQYW"
   },
   "outputs": [],
   "source": [
    "#Encoding the data\n",
    "from sklearn.preprocessing import LabelEncoder\n",
    "le=LabelEncoder()\n",
    "df=df.apply(le.fit_transform)"
   ]
  },
  {
   "cell_type": "code",
<<<<<<< HEAD
   "execution_count": 51,
=======
   "execution_count": 43,
>>>>>>> 0f0acaf (added code)
   "metadata": {},
   "outputs": [
    {
     "data": {
      "text/html": [
       "<div>\n",
       "<style scoped>\n",
       "    .dataframe tbody tr th:only-of-type {\n",
       "        vertical-align: middle;\n",
       "    }\n",
       "\n",
       "    .dataframe tbody tr th {\n",
       "        vertical-align: top;\n",
       "    }\n",
       "\n",
       "    .dataframe thead th {\n",
       "        text-align: right;\n",
       "    }\n",
       "</style>\n",
       "<table border=\"1\" class=\"dataframe\">\n",
       "  <thead>\n",
       "    <tr style=\"text-align: right;\">\n",
       "      <th></th>\n",
       "      <th>CreditScore</th>\n",
       "      <th>Geography</th>\n",
       "      <th>Gender</th>\n",
       "      <th>Age</th>\n",
       "      <th>Tenure</th>\n",
       "      <th>Balance</th>\n",
       "      <th>NumOfProducts</th>\n",
       "      <th>HasCrCard</th>\n",
       "      <th>IsActiveMember</th>\n",
       "      <th>EstimatedSalary</th>\n",
       "      <th>Exited</th>\n",
       "    </tr>\n",
       "  </thead>\n",
       "  <tbody>\n",
       "    <tr>\n",
       "      <th>0</th>\n",
       "      <td>228</td>\n",
       "      <td>0</td>\n",
       "      <td>0</td>\n",
       "      <td>24</td>\n",
       "      <td>2</td>\n",
       "      <td>0</td>\n",
       "      <td>0</td>\n",
       "      <td>1</td>\n",
       "      <td>1</td>\n",
       "      <td>5068</td>\n",
       "      <td>1</td>\n",
       "    </tr>\n",
       "    <tr>\n",
       "      <th>1</th>\n",
       "      <td>217</td>\n",
       "      <td>2</td>\n",
       "      <td>0</td>\n",
       "      <td>23</td>\n",
       "      <td>1</td>\n",
       "      <td>743</td>\n",
       "      <td>0</td>\n",
       "      <td>0</td>\n",
       "      <td>1</td>\n",
       "      <td>5639</td>\n",
       "      <td>0</td>\n",
       "    </tr>\n",
       "    <tr>\n",
       "      <th>2</th>\n",
       "      <td>111</td>\n",
       "      <td>0</td>\n",
       "      <td>0</td>\n",
       "      <td>24</td>\n",
       "      <td>8</td>\n",
       "      <td>5793</td>\n",
       "      <td>2</td>\n",
       "      <td>1</td>\n",
       "      <td>0</td>\n",
       "      <td>5707</td>\n",
       "      <td>1</td>\n",
       "    </tr>\n",
       "    <tr>\n",
       "      <th>3</th>\n",
       "      <td>308</td>\n",
       "      <td>0</td>\n",
       "      <td>0</td>\n",
       "      <td>21</td>\n",
       "      <td>1</td>\n",
       "      <td>0</td>\n",
       "      <td>1</td>\n",
       "      <td>0</td>\n",
       "      <td>0</td>\n",
       "      <td>4704</td>\n",
       "      <td>0</td>\n",
       "    </tr>\n",
       "    <tr>\n",
       "      <th>4</th>\n",
       "      <td>459</td>\n",
       "      <td>2</td>\n",
       "      <td>0</td>\n",
       "      <td>25</td>\n",
       "      <td>2</td>\n",
       "      <td>3696</td>\n",
       "      <td>0</td>\n",
       "      <td>1</td>\n",
       "      <td>1</td>\n",
       "      <td>3925</td>\n",
       "      <td>0</td>\n",
       "    </tr>\n",
       "  </tbody>\n",
       "</table>\n",
       "</div>"
      ],
      "text/plain": [
       "   CreditScore  Geography  Gender  Age  Tenure  Balance  NumOfProducts  \\\n",
       "0          228          0       0   24       2        0              0   \n",
       "1          217          2       0   23       1      743              0   \n",
       "2          111          0       0   24       8     5793              2   \n",
       "3          308          0       0   21       1        0              1   \n",
       "4          459          2       0   25       2     3696              0   \n",
       "\n",
       "   HasCrCard  IsActiveMember  EstimatedSalary  Exited  \n",
       "0          1               1             5068       1  \n",
       "1          0               1             5639       0  \n",
       "2          1               0             5707       1  \n",
       "3          0               0             4704       0  \n",
       "4          1               1             3925       0  "
      ]
     },
<<<<<<< HEAD
     "execution_count": 51,
=======
     "execution_count": 43,
>>>>>>> 0f0acaf (added code)
     "metadata": {},
     "output_type": "execute_result"
    }
   ],
   "source": [
    "df.head()"
   ]
  },
  {
   "cell_type": "code",
<<<<<<< HEAD
   "execution_count": 52,
=======
   "execution_count": 44,
>>>>>>> 0f0acaf (added code)
   "metadata": {
    "colab": {
     "base_uri": "https://localhost:8080/"
    },
    "id": "aJkkK8o9U53w",
    "outputId": "f8b5c0ba-26ed-4513-acd9-f7aa4c30aaa0"
   },
   "outputs": [
    {
     "data": {
      "text/plain": [
       "Exited\n",
       "0    7963\n",
       "1    2037\n",
       "Name: count, dtype: int64"
      ]
     },
<<<<<<< HEAD
     "execution_count": 52,
=======
     "execution_count": 44,
>>>>>>> 0f0acaf (added code)
     "metadata": {},
     "output_type": "execute_result"
    }
   ],
   "source": [
    "df['Exited'].value_counts()"
   ]
  },
  {
   "cell_type": "code",
<<<<<<< HEAD
   "execution_count": 53,
=======
   "execution_count": 45,
>>>>>>> 0f0acaf (added code)
   "metadata": {
    "id": "akN8CY_iU57d"
   },
   "outputs": [],
   "source": [
    "# Dividing dependent and independent variables\n",
    "\n",
    "X=df.drop('Exited',axis=1)\n",
    "y=df['Exited']\n"
   ]
  },
  {
   "cell_type": "code",
<<<<<<< HEAD
   "execution_count": 54,
=======
   "execution_count": 46,
>>>>>>> 0f0acaf (added code)
   "metadata": {
    "colab": {
     "base_uri": "https://localhost:8080/"
    },
    "id": "ZpZY7XqyU5_o",
    "outputId": "3b125130-07b2-42f1-e83f-9312c69178db"
   },
   "outputs": [
    {
     "name": "stdout",
     "output_type": "stream",
     "text": [
      "SMOTE Counter({1: 7963, 0: 7963})\n"
     ]
    }
   ],
   "source": [
    "# Sampling\n",
    "\n",
    "from imblearn.over_sampling import SMOTE \n",
    "from collections import Counter\n",
    "\n",
    "sampler = SMOTE()\n",
    "X_res, y_res = sampler.fit_resample(X, y)\n",
    "\n",
    "print('SMOTE {}'.format(Counter(y_res)))"
   ]
  },
  {
   "cell_type": "code",
<<<<<<< HEAD
   "execution_count": 55,
=======
   "execution_count": 47,
>>>>>>> 0f0acaf (added code)
   "metadata": {
    "id": "Lc2hvUwiBw_U"
   },
   "outputs": [],
   "source": [
    "# Splitting a dataset\n",
    "\n",
    "from sklearn.model_selection import train_test_split\n",
    "X_train, X_test, y_train, y_test= train_test_split(X_res, y_res, test_size=0.25, random_state=42)"
   ]
  },
  {
   "cell_type": "code",
<<<<<<< HEAD
   "execution_count": 56,
=======
   "execution_count": 48,
>>>>>>> 0f0acaf (added code)
   "metadata": {
    "id": "NlItXohwU6KP"
   },
   "outputs": [],
   "source": [
    "# Feature Scaling\n",
    "\n",
    "from sklearn.preprocessing import StandardScaler\n",
    "sc = StandardScaler()\n",
    "X_train = sc.fit_transform(X_train)\n",
    "X_test = sc.transform(X_test)"
   ]
  },
  {
   "cell_type": "code",
<<<<<<< HEAD
   "execution_count": 57,
   "metadata": {
    "id": "rnfh8L3dDjUg"
   },
   "outputs": [],
   "source": [
    "# import modules to create model\n",
    "\n",
    "from keras.models import Sequential\n",
    "from scikeras.wrappers import KerasClassifier\n",
    "from sklearn.model_selection import GridSearchCV\n",
    "from keras.layers import Dense, Activation,  Dropout\n",
    "from keras.activations import relu, sigmoid"
   ]
  },
  {
   "cell_type": "code",
   "execution_count": 58,
   "metadata": {},
   "outputs": [],
   "source": [
    "param_grid= {\n",
    "    'activation':['sigmoid', 'relu'],\n",
    "    'layers':[(40, 20), (45, 30, 15), (60,40,25,10),(80,60,40,25,10)],\n",
    "    'batch_size':[128, 256]\n",
    "}"
=======
   "execution_count": 49,
   "metadata": {},
   "outputs": [],
   "source": [
    "import tensorflow as tf\n",
    "from tensorflow.keras.models import Sequential\n",
    "from tensorflow.keras.layers import Dense, Dropout"
>>>>>>> 0f0acaf (added code)
   ]
  },
  {
   "cell_type": "code",
<<<<<<< HEAD
   "execution_count": 59,
   "metadata": {
    "colab": {
     "base_uri": "https://localhost:8080/"
    },
    "id": "4AbTx2J3VSh4",
    "outputId": "a0e9ca63-25c2-47c4-9274-acbddab671c9"
   },
   "outputs": [],
   "source": [
    "#Build Model\n",
    "\n",
    "def build_model(layers, activation):\n",
    "    model = Sequential()\n",
    "    for i, nodes in enumerate(layers):\n",
    "        if i==0:\n",
    "            model.add(Dense(nodes,input_dim=X_train.shape[1]))\n",
    "            model.add(Activation(activation))\n",
    "            \n",
    "        else:\n",
    "            model.add(Dense(nodes))\n",
    "            model.add(Activation(activation))\n",
    "            \n",
    "    model.add(Dense(1)) \n",
    "    \n",
    "    model.compile(optimizer='adam', loss='binary_crossentropy',metrics=['accuracy'])\n",
    "    return model\n",
    "    \n",
    "model = KerasClassifier(build_fn=build_model, verbose=0, activation=['sigmoid', 'relu'], layers = [(40, 20), (45, 30, 15), (60,40,25,10),(80,60,40,25,10)], batch_size = [128, 256])"
   ]
  },
  {
   "cell_type": "code",
   "execution_count": 60,
   "metadata": {
    "id": "noNcJcbjVSmB"
   },
   "outputs": [],
   "source": [
    "\n",
    "grid = GridSearchCV(estimator=model, param_grid=param_grid, cv=5) "
   ]
  },
  {
   "cell_type": "code",
   "execution_count": 61,
   "metadata": {
    "id": "ZMSY2TgYVb-U"
   },
   "outputs": [
    {
     "name": "stderr",
     "output_type": "stream",
     "text": [
      "/home/asif/Project/Bank-Customer-Churn-Prediction-Model/venv/lib/python3.11/site-packages/scikeras/wrappers.py:915: UserWarning: ``build_fn`` will be renamed to ``model`` in a future release, at which point use of ``build_fn`` will raise an Error instead.\n",
      "  X, y = self._initialize(X, y)\n"
=======
   "execution_count": 50,
   "metadata": {},
   "outputs": [
    {
     "name": "stdout",
     "output_type": "stream",
     "text": [
      "Epoch 1/50\n"
>>>>>>> 0f0acaf (added code)
     ]
    },
    {
     "name": "stderr",
     "output_type": "stream",
     "text": [
<<<<<<< HEAD
      "/home/asif/Project/Bank-Customer-Churn-Prediction-Model/venv/lib/python3.11/site-packages/scikeras/wrappers.py:915: UserWarning: ``build_fn`` will be renamed to ``model`` in a future release, at which point use of ``build_fn`` will raise an Error instead.\n",
      "  X, y = self._initialize(X, y)\n",
      "/home/asif/Project/Bank-Customer-Churn-Prediction-Model/venv/lib/python3.11/site-packages/scikeras/wrappers.py:915: UserWarning: ``build_fn`` will be renamed to ``model`` in a future release, at which point use of ``build_fn`` will raise an Error instead.\n",
      "  X, y = self._initialize(X, y)\n",
      "/home/asif/Project/Bank-Customer-Churn-Prediction-Model/venv/lib/python3.11/site-packages/scikeras/wrappers.py:915: UserWarning: ``build_fn`` will be renamed to ``model`` in a future release, at which point use of ``build_fn`` will raise an Error instead.\n",
      "  X, y = self._initialize(X, y)\n",
      "/home/asif/Project/Bank-Customer-Churn-Prediction-Model/venv/lib/python3.11/site-packages/scikeras/wrappers.py:915: UserWarning: ``build_fn`` will be renamed to ``model`` in a future release, at which point use of ``build_fn`` will raise an Error instead.\n",
      "  X, y = self._initialize(X, y)\n",
      "/home/asif/Project/Bank-Customer-Churn-Prediction-Model/venv/lib/python3.11/site-packages/scikeras/wrappers.py:915: UserWarning: ``build_fn`` will be renamed to ``model`` in a future release, at which point use of ``build_fn`` will raise an Error instead.\n",
      "  X, y = self._initialize(X, y)\n",
      "/home/asif/Project/Bank-Customer-Churn-Prediction-Model/venv/lib/python3.11/site-packages/scikeras/wrappers.py:915: UserWarning: ``build_fn`` will be renamed to ``model`` in a future release, at which point use of ``build_fn`` will raise an Error instead.\n",
      "  X, y = self._initialize(X, y)\n",
      "/home/asif/Project/Bank-Customer-Churn-Prediction-Model/venv/lib/python3.11/site-packages/scikeras/wrappers.py:915: UserWarning: ``build_fn`` will be renamed to ``model`` in a future release, at which point use of ``build_fn`` will raise an Error instead.\n",
      "  X, y = self._initialize(X, y)\n",
      "/home/asif/Project/Bank-Customer-Churn-Prediction-Model/venv/lib/python3.11/site-packages/scikeras/wrappers.py:915: UserWarning: ``build_fn`` will be renamed to ``model`` in a future release, at which point use of ``build_fn`` will raise an Error instead.\n",
      "  X, y = self._initialize(X, y)\n",
      "/home/asif/Project/Bank-Customer-Churn-Prediction-Model/venv/lib/python3.11/site-packages/scikeras/wrappers.py:915: UserWarning: ``build_fn`` will be renamed to ``model`` in a future release, at which point use of ``build_fn`` will raise an Error instead.\n",
      "  X, y = self._initialize(X, y)\n",
      "/home/asif/Project/Bank-Customer-Churn-Prediction-Model/venv/lib/python3.11/site-packages/scikeras/wrappers.py:915: UserWarning: ``build_fn`` will be renamed to ``model`` in a future release, at which point use of ``build_fn`` will raise an Error instead.\n",
      "  X, y = self._initialize(X, y)\n",
      "/home/asif/Project/Bank-Customer-Churn-Prediction-Model/venv/lib/python3.11/site-packages/scikeras/wrappers.py:915: UserWarning: ``build_fn`` will be renamed to ``model`` in a future release, at which point use of ``build_fn`` will raise an Error instead.\n",
      "  X, y = self._initialize(X, y)\n",
      "/home/asif/Project/Bank-Customer-Churn-Prediction-Model/venv/lib/python3.11/site-packages/scikeras/wrappers.py:915: UserWarning: ``build_fn`` will be renamed to ``model`` in a future release, at which point use of ``build_fn`` will raise an Error instead.\n",
      "  X, y = self._initialize(X, y)\n",
      "/home/asif/Project/Bank-Customer-Churn-Prediction-Model/venv/lib/python3.11/site-packages/scikeras/wrappers.py:915: UserWarning: ``build_fn`` will be renamed to ``model`` in a future release, at which point use of ``build_fn`` will raise an Error instead.\n",
      "  X, y = self._initialize(X, y)\n",
      "/home/asif/Project/Bank-Customer-Churn-Prediction-Model/venv/lib/python3.11/site-packages/scikeras/wrappers.py:915: UserWarning: ``build_fn`` will be renamed to ``model`` in a future release, at which point use of ``build_fn`` will raise an Error instead.\n",
      "  X, y = self._initialize(X, y)\n",
      "/home/asif/Project/Bank-Customer-Churn-Prediction-Model/venv/lib/python3.11/site-packages/scikeras/wrappers.py:915: UserWarning: ``build_fn`` will be renamed to ``model`` in a future release, at which point use of ``build_fn`` will raise an Error instead.\n",
      "  X, y = self._initialize(X, y)\n",
      "/home/asif/Project/Bank-Customer-Churn-Prediction-Model/venv/lib/python3.11/site-packages/scikeras/wrappers.py:915: UserWarning: ``build_fn`` will be renamed to ``model`` in a future release, at which point use of ``build_fn`` will raise an Error instead.\n",
      "  X, y = self._initialize(X, y)\n",
      "/home/asif/Project/Bank-Customer-Churn-Prediction-Model/venv/lib/python3.11/site-packages/scikeras/wrappers.py:915: UserWarning: ``build_fn`` will be renamed to ``model`` in a future release, at which point use of ``build_fn`` will raise an Error instead.\n",
      "  X, y = self._initialize(X, y)\n",
      "/home/asif/Project/Bank-Customer-Churn-Prediction-Model/venv/lib/python3.11/site-packages/scikeras/wrappers.py:915: UserWarning: ``build_fn`` will be renamed to ``model`` in a future release, at which point use of ``build_fn`` will raise an Error instead.\n",
      "  X, y = self._initialize(X, y)\n",
      "/home/asif/Project/Bank-Customer-Churn-Prediction-Model/venv/lib/python3.11/site-packages/scikeras/wrappers.py:915: UserWarning: ``build_fn`` will be renamed to ``model`` in a future release, at which point use of ``build_fn`` will raise an Error instead.\n",
      "  X, y = self._initialize(X, y)\n",
      "/home/asif/Project/Bank-Customer-Churn-Prediction-Model/venv/lib/python3.11/site-packages/scikeras/wrappers.py:915: UserWarning: ``build_fn`` will be renamed to ``model`` in a future release, at which point use of ``build_fn`` will raise an Error instead.\n",
      "  X, y = self._initialize(X, y)\n",
      "/home/asif/Project/Bank-Customer-Churn-Prediction-Model/venv/lib/python3.11/site-packages/scikeras/wrappers.py:915: UserWarning: ``build_fn`` will be renamed to ``model`` in a future release, at which point use of ``build_fn`` will raise an Error instead.\n",
      "  X, y = self._initialize(X, y)\n",
      "/home/asif/Project/Bank-Customer-Churn-Prediction-Model/venv/lib/python3.11/site-packages/scikeras/wrappers.py:915: UserWarning: ``build_fn`` will be renamed to ``model`` in a future release, at which point use of ``build_fn`` will raise an Error instead.\n",
      "  X, y = self._initialize(X, y)\n",
      "/home/asif/Project/Bank-Customer-Churn-Prediction-Model/venv/lib/python3.11/site-packages/scikeras/wrappers.py:915: UserWarning: ``build_fn`` will be renamed to ``model`` in a future release, at which point use of ``build_fn`` will raise an Error instead.\n",
      "  X, y = self._initialize(X, y)\n",
      "/home/asif/Project/Bank-Customer-Churn-Prediction-Model/venv/lib/python3.11/site-packages/scikeras/wrappers.py:915: UserWarning: ``build_fn`` will be renamed to ``model`` in a future release, at which point use of ``build_fn`` will raise an Error instead.\n",
      "  X, y = self._initialize(X, y)\n",
      "/home/asif/Project/Bank-Customer-Churn-Prediction-Model/venv/lib/python3.11/site-packages/scikeras/wrappers.py:915: UserWarning: ``build_fn`` will be renamed to ``model`` in a future release, at which point use of ``build_fn`` will raise an Error instead.\n",
      "  X, y = self._initialize(X, y)\n",
      "/home/asif/Project/Bank-Customer-Churn-Prediction-Model/venv/lib/python3.11/site-packages/scikeras/wrappers.py:915: UserWarning: ``build_fn`` will be renamed to ``model`` in a future release, at which point use of ``build_fn`` will raise an Error instead.\n",
      "  X, y = self._initialize(X, y)\n",
      "/home/asif/Project/Bank-Customer-Churn-Prediction-Model/venv/lib/python3.11/site-packages/scikeras/wrappers.py:915: UserWarning: ``build_fn`` will be renamed to ``model`` in a future release, at which point use of ``build_fn`` will raise an Error instead.\n",
      "  X, y = self._initialize(X, y)\n",
      "/home/asif/Project/Bank-Customer-Churn-Prediction-Model/venv/lib/python3.11/site-packages/scikeras/wrappers.py:915: UserWarning: ``build_fn`` will be renamed to ``model`` in a future release, at which point use of ``build_fn`` will raise an Error instead.\n",
      "  X, y = self._initialize(X, y)\n",
      "/home/asif/Project/Bank-Customer-Churn-Prediction-Model/venv/lib/python3.11/site-packages/scikeras/wrappers.py:915: UserWarning: ``build_fn`` will be renamed to ``model`` in a future release, at which point use of ``build_fn`` will raise an Error instead.\n",
      "  X, y = self._initialize(X, y)\n",
      "/home/asif/Project/Bank-Customer-Churn-Prediction-Model/venv/lib/python3.11/site-packages/scikeras/wrappers.py:915: UserWarning: ``build_fn`` will be renamed to ``model`` in a future release, at which point use of ``build_fn`` will raise an Error instead.\n",
      "  X, y = self._initialize(X, y)\n",
      "/home/asif/Project/Bank-Customer-Churn-Prediction-Model/venv/lib/python3.11/site-packages/scikeras/wrappers.py:915: UserWarning: ``build_fn`` will be renamed to ``model`` in a future release, at which point use of ``build_fn`` will raise an Error instead.\n",
      "  X, y = self._initialize(X, y)\n",
      "/home/asif/Project/Bank-Customer-Churn-Prediction-Model/venv/lib/python3.11/site-packages/scikeras/wrappers.py:915: UserWarning: ``build_fn`` will be renamed to ``model`` in a future release, at which point use of ``build_fn`` will raise an Error instead.\n",
      "  X, y = self._initialize(X, y)\n",
      "/home/asif/Project/Bank-Customer-Churn-Prediction-Model/venv/lib/python3.11/site-packages/scikeras/wrappers.py:915: UserWarning: ``build_fn`` will be renamed to ``model`` in a future release, at which point use of ``build_fn`` will raise an Error instead.\n",
      "  X, y = self._initialize(X, y)\n",
      "/home/asif/Project/Bank-Customer-Churn-Prediction-Model/venv/lib/python3.11/site-packages/scikeras/wrappers.py:915: UserWarning: ``build_fn`` will be renamed to ``model`` in a future release, at which point use of ``build_fn`` will raise an Error instead.\n",
      "  X, y = self._initialize(X, y)\n",
      "/home/asif/Project/Bank-Customer-Churn-Prediction-Model/venv/lib/python3.11/site-packages/scikeras/wrappers.py:915: UserWarning: ``build_fn`` will be renamed to ``model`` in a future release, at which point use of ``build_fn`` will raise an Error instead.\n",
      "  X, y = self._initialize(X, y)\n",
      "/home/asif/Project/Bank-Customer-Churn-Prediction-Model/venv/lib/python3.11/site-packages/scikeras/wrappers.py:915: UserWarning: ``build_fn`` will be renamed to ``model`` in a future release, at which point use of ``build_fn`` will raise an Error instead.\n",
      "  X, y = self._initialize(X, y)\n",
      "/home/asif/Project/Bank-Customer-Churn-Prediction-Model/venv/lib/python3.11/site-packages/scikeras/wrappers.py:915: UserWarning: ``build_fn`` will be renamed to ``model`` in a future release, at which point use of ``build_fn`` will raise an Error instead.\n",
      "  X, y = self._initialize(X, y)\n",
      "/home/asif/Project/Bank-Customer-Churn-Prediction-Model/venv/lib/python3.11/site-packages/scikeras/wrappers.py:915: UserWarning: ``build_fn`` will be renamed to ``model`` in a future release, at which point use of ``build_fn`` will raise an Error instead.\n",
      "  X, y = self._initialize(X, y)\n",
      "/home/asif/Project/Bank-Customer-Churn-Prediction-Model/venv/lib/python3.11/site-packages/scikeras/wrappers.py:915: UserWarning: ``build_fn`` will be renamed to ``model`` in a future release, at which point use of ``build_fn`` will raise an Error instead.\n",
      "  X, y = self._initialize(X, y)\n",
      "/home/asif/Project/Bank-Customer-Churn-Prediction-Model/venv/lib/python3.11/site-packages/scikeras/wrappers.py:915: UserWarning: ``build_fn`` will be renamed to ``model`` in a future release, at which point use of ``build_fn`` will raise an Error instead.\n",
      "  X, y = self._initialize(X, y)\n",
      "/home/asif/Project/Bank-Customer-Churn-Prediction-Model/venv/lib/python3.11/site-packages/scikeras/wrappers.py:915: UserWarning: ``build_fn`` will be renamed to ``model`` in a future release, at which point use of ``build_fn`` will raise an Error instead.\n",
      "  X, y = self._initialize(X, y)\n",
      "/home/asif/Project/Bank-Customer-Churn-Prediction-Model/venv/lib/python3.11/site-packages/scikeras/wrappers.py:915: UserWarning: ``build_fn`` will be renamed to ``model`` in a future release, at which point use of ``build_fn`` will raise an Error instead.\n",
      "  X, y = self._initialize(X, y)\n",
      "/home/asif/Project/Bank-Customer-Churn-Prediction-Model/venv/lib/python3.11/site-packages/scikeras/wrappers.py:915: UserWarning: ``build_fn`` will be renamed to ``model`` in a future release, at which point use of ``build_fn`` will raise an Error instead.\n",
      "  X, y = self._initialize(X, y)\n",
      "/home/asif/Project/Bank-Customer-Churn-Prediction-Model/venv/lib/python3.11/site-packages/scikeras/wrappers.py:915: UserWarning: ``build_fn`` will be renamed to ``model`` in a future release, at which point use of ``build_fn`` will raise an Error instead.\n",
      "  X, y = self._initialize(X, y)\n",
      "/home/asif/Project/Bank-Customer-Churn-Prediction-Model/venv/lib/python3.11/site-packages/scikeras/wrappers.py:915: UserWarning: ``build_fn`` will be renamed to ``model`` in a future release, at which point use of ``build_fn`` will raise an Error instead.\n",
      "  X, y = self._initialize(X, y)\n",
      "/home/asif/Project/Bank-Customer-Churn-Prediction-Model/venv/lib/python3.11/site-packages/scikeras/wrappers.py:915: UserWarning: ``build_fn`` will be renamed to ``model`` in a future release, at which point use of ``build_fn`` will raise an Error instead.\n",
      "  X, y = self._initialize(X, y)\n",
      "/home/asif/Project/Bank-Customer-Churn-Prediction-Model/venv/lib/python3.11/site-packages/scikeras/wrappers.py:915: UserWarning: ``build_fn`` will be renamed to ``model`` in a future release, at which point use of ``build_fn`` will raise an Error instead.\n",
      "  X, y = self._initialize(X, y)\n",
      "/home/asif/Project/Bank-Customer-Churn-Prediction-Model/venv/lib/python3.11/site-packages/scikeras/wrappers.py:915: UserWarning: ``build_fn`` will be renamed to ``model`` in a future release, at which point use of ``build_fn`` will raise an Error instead.\n",
      "  X, y = self._initialize(X, y)\n",
      "/home/asif/Project/Bank-Customer-Churn-Prediction-Model/venv/lib/python3.11/site-packages/scikeras/wrappers.py:915: UserWarning: ``build_fn`` will be renamed to ``model`` in a future release, at which point use of ``build_fn`` will raise an Error instead.\n",
      "  X, y = self._initialize(X, y)\n",
      "/home/asif/Project/Bank-Customer-Churn-Prediction-Model/venv/lib/python3.11/site-packages/scikeras/wrappers.py:915: UserWarning: ``build_fn`` will be renamed to ``model`` in a future release, at which point use of ``build_fn`` will raise an Error instead.\n",
      "  X, y = self._initialize(X, y)\n",
      "/home/asif/Project/Bank-Customer-Churn-Prediction-Model/venv/lib/python3.11/site-packages/scikeras/wrappers.py:915: UserWarning: ``build_fn`` will be renamed to ``model`` in a future release, at which point use of ``build_fn`` will raise an Error instead.\n",
      "  X, y = self._initialize(X, y)\n",
      "/home/asif/Project/Bank-Customer-Churn-Prediction-Model/venv/lib/python3.11/site-packages/scikeras/wrappers.py:915: UserWarning: ``build_fn`` will be renamed to ``model`` in a future release, at which point use of ``build_fn`` will raise an Error instead.\n",
      "  X, y = self._initialize(X, y)\n",
      "/home/asif/Project/Bank-Customer-Churn-Prediction-Model/venv/lib/python3.11/site-packages/scikeras/wrappers.py:915: UserWarning: ``build_fn`` will be renamed to ``model`` in a future release, at which point use of ``build_fn`` will raise an Error instead.\n",
      "  X, y = self._initialize(X, y)\n",
      "/home/asif/Project/Bank-Customer-Churn-Prediction-Model/venv/lib/python3.11/site-packages/scikeras/wrappers.py:915: UserWarning: ``build_fn`` will be renamed to ``model`` in a future release, at which point use of ``build_fn`` will raise an Error instead.\n",
      "  X, y = self._initialize(X, y)\n",
      "/home/asif/Project/Bank-Customer-Churn-Prediction-Model/venv/lib/python3.11/site-packages/scikeras/wrappers.py:915: UserWarning: ``build_fn`` will be renamed to ``model`` in a future release, at which point use of ``build_fn`` will raise an Error instead.\n",
      "  X, y = self._initialize(X, y)\n",
      "/home/asif/Project/Bank-Customer-Churn-Prediction-Model/venv/lib/python3.11/site-packages/scikeras/wrappers.py:915: UserWarning: ``build_fn`` will be renamed to ``model`` in a future release, at which point use of ``build_fn`` will raise an Error instead.\n",
      "  X, y = self._initialize(X, y)\n",
      "/home/asif/Project/Bank-Customer-Churn-Prediction-Model/venv/lib/python3.11/site-packages/scikeras/wrappers.py:915: UserWarning: ``build_fn`` will be renamed to ``model`` in a future release, at which point use of ``build_fn`` will raise an Error instead.\n",
      "  X, y = self._initialize(X, y)\n",
      "/home/asif/Project/Bank-Customer-Churn-Prediction-Model/venv/lib/python3.11/site-packages/scikeras/wrappers.py:915: UserWarning: ``build_fn`` will be renamed to ``model`` in a future release, at which point use of ``build_fn`` will raise an Error instead.\n",
      "  X, y = self._initialize(X, y)\n",
      "/home/asif/Project/Bank-Customer-Churn-Prediction-Model/venv/lib/python3.11/site-packages/scikeras/wrappers.py:915: UserWarning: ``build_fn`` will be renamed to ``model`` in a future release, at which point use of ``build_fn`` will raise an Error instead.\n",
      "  X, y = self._initialize(X, y)\n",
      "/home/asif/Project/Bank-Customer-Churn-Prediction-Model/venv/lib/python3.11/site-packages/scikeras/wrappers.py:915: UserWarning: ``build_fn`` will be renamed to ``model`` in a future release, at which point use of ``build_fn`` will raise an Error instead.\n",
      "  X, y = self._initialize(X, y)\n",
      "/home/asif/Project/Bank-Customer-Churn-Prediction-Model/venv/lib/python3.11/site-packages/scikeras/wrappers.py:915: UserWarning: ``build_fn`` will be renamed to ``model`` in a future release, at which point use of ``build_fn`` will raise an Error instead.\n",
      "  X, y = self._initialize(X, y)\n",
      "/home/asif/Project/Bank-Customer-Churn-Prediction-Model/venv/lib/python3.11/site-packages/scikeras/wrappers.py:915: UserWarning: ``build_fn`` will be renamed to ``model`` in a future release, at which point use of ``build_fn`` will raise an Error instead.\n",
      "  X, y = self._initialize(X, y)\n",
      "/home/asif/Project/Bank-Customer-Churn-Prediction-Model/venv/lib/python3.11/site-packages/scikeras/wrappers.py:915: UserWarning: ``build_fn`` will be renamed to ``model`` in a future release, at which point use of ``build_fn`` will raise an Error instead.\n",
      "  X, y = self._initialize(X, y)\n",
      "/home/asif/Project/Bank-Customer-Churn-Prediction-Model/venv/lib/python3.11/site-packages/scikeras/wrappers.py:915: UserWarning: ``build_fn`` will be renamed to ``model`` in a future release, at which point use of ``build_fn`` will raise an Error instead.\n",
      "  X, y = self._initialize(X, y)\n",
      "/home/asif/Project/Bank-Customer-Churn-Prediction-Model/venv/lib/python3.11/site-packages/scikeras/wrappers.py:915: UserWarning: ``build_fn`` will be renamed to ``model`` in a future release, at which point use of ``build_fn`` will raise an Error instead.\n",
      "  X, y = self._initialize(X, y)\n",
      "/home/asif/Project/Bank-Customer-Churn-Prediction-Model/venv/lib/python3.11/site-packages/scikeras/wrappers.py:915: UserWarning: ``build_fn`` will be renamed to ``model`` in a future release, at which point use of ``build_fn`` will raise an Error instead.\n",
      "  X, y = self._initialize(X, y)\n",
      "/home/asif/Project/Bank-Customer-Churn-Prediction-Model/venv/lib/python3.11/site-packages/scikeras/wrappers.py:915: UserWarning: ``build_fn`` will be renamed to ``model`` in a future release, at which point use of ``build_fn`` will raise an Error instead.\n",
      "  X, y = self._initialize(X, y)\n",
      "/home/asif/Project/Bank-Customer-Churn-Prediction-Model/venv/lib/python3.11/site-packages/scikeras/wrappers.py:915: UserWarning: ``build_fn`` will be renamed to ``model`` in a future release, at which point use of ``build_fn`` will raise an Error instead.\n",
      "  X, y = self._initialize(X, y)\n",
      "/home/asif/Project/Bank-Customer-Churn-Prediction-Model/venv/lib/python3.11/site-packages/scikeras/wrappers.py:915: UserWarning: ``build_fn`` will be renamed to ``model`` in a future release, at which point use of ``build_fn`` will raise an Error instead.\n",
      "  X, y = self._initialize(X, y)\n",
      "/home/asif/Project/Bank-Customer-Churn-Prediction-Model/venv/lib/python3.11/site-packages/scikeras/wrappers.py:915: UserWarning: ``build_fn`` will be renamed to ``model`` in a future release, at which point use of ``build_fn`` will raise an Error instead.\n",
      "  X, y = self._initialize(X, y)\n",
      "/home/asif/Project/Bank-Customer-Churn-Prediction-Model/venv/lib/python3.11/site-packages/scikeras/wrappers.py:915: UserWarning: ``build_fn`` will be renamed to ``model`` in a future release, at which point use of ``build_fn`` will raise an Error instead.\n",
      "  X, y = self._initialize(X, y)\n",
      "/home/asif/Project/Bank-Customer-Churn-Prediction-Model/venv/lib/python3.11/site-packages/scikeras/wrappers.py:915: UserWarning: ``build_fn`` will be renamed to ``model`` in a future release, at which point use of ``build_fn`` will raise an Error instead.\n",
      "  X, y = self._initialize(X, y)\n",
      "/home/asif/Project/Bank-Customer-Churn-Prediction-Model/venv/lib/python3.11/site-packages/scikeras/wrappers.py:915: UserWarning: ``build_fn`` will be renamed to ``model`` in a future release, at which point use of ``build_fn`` will raise an Error instead.\n",
      "  X, y = self._initialize(X, y)\n",
      "/home/asif/Project/Bank-Customer-Churn-Prediction-Model/venv/lib/python3.11/site-packages/scikeras/wrappers.py:915: UserWarning: ``build_fn`` will be renamed to ``model`` in a future release, at which point use of ``build_fn`` will raise an Error instead.\n",
      "  X, y = self._initialize(X, y)\n",
      "/home/asif/Project/Bank-Customer-Churn-Prediction-Model/venv/lib/python3.11/site-packages/scikeras/wrappers.py:915: UserWarning: ``build_fn`` will be renamed to ``model`` in a future release, at which point use of ``build_fn`` will raise an Error instead.\n",
      "  X, y = self._initialize(X, y)\n",
      "/home/asif/Project/Bank-Customer-Churn-Prediction-Model/venv/lib/python3.11/site-packages/scikeras/wrappers.py:915: UserWarning: ``build_fn`` will be renamed to ``model`` in a future release, at which point use of ``build_fn`` will raise an Error instead.\n",
      "  X, y = self._initialize(X, y)\n",
      "/home/asif/Project/Bank-Customer-Churn-Prediction-Model/venv/lib/python3.11/site-packages/scikeras/wrappers.py:915: UserWarning: ``build_fn`` will be renamed to ``model`` in a future release, at which point use of ``build_fn`` will raise an Error instead.\n",
      "  X, y = self._initialize(X, y)\n",
      "/home/asif/Project/Bank-Customer-Churn-Prediction-Model/venv/lib/python3.11/site-packages/scikeras/wrappers.py:915: UserWarning: ``build_fn`` will be renamed to ``model`` in a future release, at which point use of ``build_fn`` will raise an Error instead.\n",
      "  X, y = self._initialize(X, y)\n",
      "/home/asif/Project/Bank-Customer-Churn-Prediction-Model/venv/lib/python3.11/site-packages/scikeras/wrappers.py:915: UserWarning: ``build_fn`` will be renamed to ``model`` in a future release, at which point use of ``build_fn`` will raise an Error instead.\n",
      "  X, y = self._initialize(X, y)\n",
      "/home/asif/Project/Bank-Customer-Churn-Prediction-Model/venv/lib/python3.11/site-packages/scikeras/wrappers.py:915: UserWarning: ``build_fn`` will be renamed to ``model`` in a future release, at which point use of ``build_fn`` will raise an Error instead.\n",
      "  X, y = self._initialize(X, y)\n"
=======
      "/home/asif/Projects/Bank-Customer-Churn-Prediction-Model-main/venv/lib/python3.12/site-packages/keras/src/layers/core/dense.py:87: UserWarning: Do not pass an `input_shape`/`input_dim` argument to a layer. When using Sequential models, prefer using an `Input(shape)` object as the first layer in the model instead.\n",
      "  super().__init__(activity_regularizer=activity_regularizer, **kwargs)\n",
      "W0000 00:00:1739992808.759330    8565 gpu_device.cc:2344] Cannot dlopen some GPU libraries. Please make sure the missing libraries mentioned above are installed properly if you would like to use GPU. Follow the guide at https://www.tensorflow.org/install/gpu for how to download and setup the required libraries for your platform.\n",
      "Skipping registering GPU devices...\n"
     ]
    },
    {
     "name": "stdout",
     "output_type": "stream",
     "text": [
      "\u001b[1m299/299\u001b[0m \u001b[32m━━━━━━━━━━━━━━━━━━━━\u001b[0m\u001b[37m\u001b[0m \u001b[1m2s\u001b[0m 3ms/step - accuracy: 0.6788 - loss: 0.5969 - val_accuracy: 0.7890 - val_loss: 0.4582\n",
      "Epoch 2/50\n",
      "\u001b[1m299/299\u001b[0m \u001b[32m━━━━━━━━━━━━━━━━━━━━\u001b[0m\u001b[37m\u001b[0m \u001b[1m1s\u001b[0m 2ms/step - accuracy: 0.7802 - loss: 0.4729 - val_accuracy: 0.8020 - val_loss: 0.4360\n",
      "Epoch 3/50\n",
      "\u001b[1m299/299\u001b[0m \u001b[32m━━━━━━━━━━━━━━━━━━━━\u001b[0m\u001b[37m\u001b[0m \u001b[1m1s\u001b[0m 2ms/step - accuracy: 0.7938 - loss: 0.4554 - val_accuracy: 0.8008 - val_loss: 0.4218\n",
      "Epoch 4/50\n",
      "\u001b[1m299/299\u001b[0m \u001b[32m━━━━━━━━━━━━━━━━━━━━\u001b[0m\u001b[37m\u001b[0m \u001b[1m0s\u001b[0m 2ms/step - accuracy: 0.8013 - loss: 0.4442 - val_accuracy: 0.8066 - val_loss: 0.4144\n",
      "Epoch 5/50\n",
      "\u001b[1m299/299\u001b[0m \u001b[32m━━━━━━━━━━━━━━━━━━━━\u001b[0m\u001b[37m\u001b[0m \u001b[1m1s\u001b[0m 2ms/step - accuracy: 0.8045 - loss: 0.4363 - val_accuracy: 0.8091 - val_loss: 0.4094\n",
      "Epoch 6/50\n",
      "\u001b[1m299/299\u001b[0m \u001b[32m━━━━━━━━━━━━━━━━━━━━\u001b[0m\u001b[37m\u001b[0m \u001b[1m1s\u001b[0m 2ms/step - accuracy: 0.8057 - loss: 0.4293 - val_accuracy: 0.8104 - val_loss: 0.4021\n",
      "Epoch 7/50\n",
      "\u001b[1m299/299\u001b[0m \u001b[32m━━━━━━━━━━━━━━━━━━━━\u001b[0m\u001b[37m\u001b[0m \u001b[1m1s\u001b[0m 2ms/step - accuracy: 0.8047 - loss: 0.4325 - val_accuracy: 0.8116 - val_loss: 0.3988\n",
      "Epoch 8/50\n",
      "\u001b[1m299/299\u001b[0m \u001b[32m━━━━━━━━━━━━━━━━━━━━\u001b[0m\u001b[37m\u001b[0m \u001b[1m1s\u001b[0m 2ms/step - accuracy: 0.8124 - loss: 0.4135 - val_accuracy: 0.8171 - val_loss: 0.3979\n",
      "Epoch 9/50\n",
      "\u001b[1m299/299\u001b[0m \u001b[32m━━━━━━━━━━━━━━━━━━━━\u001b[0m\u001b[37m\u001b[0m \u001b[1m1s\u001b[0m 2ms/step - accuracy: 0.8165 - loss: 0.4118 - val_accuracy: 0.8121 - val_loss: 0.3943\n",
      "Epoch 10/50\n",
      "\u001b[1m299/299\u001b[0m \u001b[32m━━━━━━━━━━━━━━━━━━━━\u001b[0m\u001b[37m\u001b[0m \u001b[1m1s\u001b[0m 2ms/step - accuracy: 0.8071 - loss: 0.4259 - val_accuracy: 0.8133 - val_loss: 0.3928\n",
      "Epoch 11/50\n",
      "\u001b[1m299/299\u001b[0m \u001b[32m━━━━━━━━━━━━━━━━━━━━\u001b[0m\u001b[37m\u001b[0m \u001b[1m1s\u001b[0m 2ms/step - accuracy: 0.8152 - loss: 0.4094 - val_accuracy: 0.8137 - val_loss: 0.3909\n",
      "Epoch 12/50\n",
      "\u001b[1m299/299\u001b[0m \u001b[32m━━━━━━━━━━━━━━━━━━━━\u001b[0m\u001b[37m\u001b[0m \u001b[1m1s\u001b[0m 2ms/step - accuracy: 0.8192 - loss: 0.4100 - val_accuracy: 0.8141 - val_loss: 0.3895\n",
      "Epoch 13/50\n",
      "\u001b[1m299/299\u001b[0m \u001b[32m━━━━━━━━━━━━━━━━━━━━\u001b[0m\u001b[37m\u001b[0m \u001b[1m1s\u001b[0m 2ms/step - accuracy: 0.8161 - loss: 0.4056 - val_accuracy: 0.8167 - val_loss: 0.3858\n",
      "Epoch 14/50\n",
      "\u001b[1m299/299\u001b[0m \u001b[32m━━━━━━━━━━━━━━━━━━━━\u001b[0m\u001b[37m\u001b[0m \u001b[1m1s\u001b[0m 2ms/step - accuracy: 0.8154 - loss: 0.4026 - val_accuracy: 0.8213 - val_loss: 0.3867\n",
      "Epoch 15/50\n",
      "\u001b[1m299/299\u001b[0m \u001b[32m━━━━━━━━━━━━━━━━━━━━\u001b[0m\u001b[37m\u001b[0m \u001b[1m1s\u001b[0m 2ms/step - accuracy: 0.8222 - loss: 0.3949 - val_accuracy: 0.8200 - val_loss: 0.3857\n",
      "Epoch 16/50\n",
      "\u001b[1m299/299\u001b[0m \u001b[32m━━━━━━━━━━━━━━━━━━━━\u001b[0m\u001b[37m\u001b[0m \u001b[1m1s\u001b[0m 2ms/step - accuracy: 0.8303 - loss: 0.3945 - val_accuracy: 0.8255 - val_loss: 0.3840\n",
      "Epoch 17/50\n",
      "\u001b[1m299/299\u001b[0m \u001b[32m━━━━━━━━━━━━━━━━━━━━\u001b[0m\u001b[37m\u001b[0m \u001b[1m1s\u001b[0m 2ms/step - accuracy: 0.8233 - loss: 0.4005 - val_accuracy: 0.8200 - val_loss: 0.3848\n",
      "Epoch 18/50\n",
      "\u001b[1m299/299\u001b[0m \u001b[32m━━━━━━━━━━━━━━━━━━━━\u001b[0m\u001b[37m\u001b[0m \u001b[1m1s\u001b[0m 2ms/step - accuracy: 0.8257 - loss: 0.3957 - val_accuracy: 0.8200 - val_loss: 0.3828\n",
      "Epoch 19/50\n",
      "\u001b[1m299/299\u001b[0m \u001b[32m━━━━━━━━━━━━━━━━━━━━\u001b[0m\u001b[37m\u001b[0m \u001b[1m1s\u001b[0m 2ms/step - accuracy: 0.8236 - loss: 0.4009 - val_accuracy: 0.8217 - val_loss: 0.3818\n",
      "Epoch 20/50\n",
      "\u001b[1m299/299\u001b[0m \u001b[32m━━━━━━━━━━━━━━━━━━━━\u001b[0m\u001b[37m\u001b[0m \u001b[1m1s\u001b[0m 2ms/step - accuracy: 0.8282 - loss: 0.3878 - val_accuracy: 0.8213 - val_loss: 0.3826\n",
      "Epoch 21/50\n",
      "\u001b[1m299/299\u001b[0m \u001b[32m━━━━━━━━━━━━━━━━━━━━\u001b[0m\u001b[37m\u001b[0m \u001b[1m1s\u001b[0m 2ms/step - accuracy: 0.8195 - loss: 0.3999 - val_accuracy: 0.8196 - val_loss: 0.3818\n",
      "Epoch 22/50\n",
      "\u001b[1m299/299\u001b[0m \u001b[32m━━━━━━━━━━━━━━━━━━━━\u001b[0m\u001b[37m\u001b[0m \u001b[1m1s\u001b[0m 2ms/step - accuracy: 0.8263 - loss: 0.3907 - val_accuracy: 0.8242 - val_loss: 0.3812\n",
      "Epoch 23/50\n",
      "\u001b[1m299/299\u001b[0m \u001b[32m━━━━━━━━━━━━━━━━━━━━\u001b[0m\u001b[37m\u001b[0m \u001b[1m1s\u001b[0m 2ms/step - accuracy: 0.8313 - loss: 0.3829 - val_accuracy: 0.8167 - val_loss: 0.3819\n",
      "Epoch 24/50\n",
      "\u001b[1m299/299\u001b[0m \u001b[32m━━━━━━━━━━━━━━━━━━━━\u001b[0m\u001b[37m\u001b[0m \u001b[1m1s\u001b[0m 2ms/step - accuracy: 0.8324 - loss: 0.3885 - val_accuracy: 0.8167 - val_loss: 0.3829\n",
      "Epoch 25/50\n",
      "\u001b[1m299/299\u001b[0m \u001b[32m━━━━━━━━━━━━━━━━━━━━\u001b[0m\u001b[37m\u001b[0m \u001b[1m1s\u001b[0m 2ms/step - accuracy: 0.8255 - loss: 0.3990 - val_accuracy: 0.8192 - val_loss: 0.3818\n",
      "Epoch 26/50\n",
      "\u001b[1m299/299\u001b[0m \u001b[32m━━━━━━━━━━━━━━━━━━━━\u001b[0m\u001b[37m\u001b[0m \u001b[1m1s\u001b[0m 2ms/step - accuracy: 0.8246 - loss: 0.3896 - val_accuracy: 0.8188 - val_loss: 0.3815\n",
      "Epoch 27/50\n",
      "\u001b[1m299/299\u001b[0m \u001b[32m━━━━━━━━━━━━━━━━━━━━\u001b[0m\u001b[37m\u001b[0m \u001b[1m1s\u001b[0m 2ms/step - accuracy: 0.8258 - loss: 0.3936 - val_accuracy: 0.8196 - val_loss: 0.3814\n"
>>>>>>> 0f0acaf (added code)
     ]
    }
   ],
   "source": [
<<<<<<< HEAD
    "#fit train data\n",
    "grid_result = grid.fit(X_train, y_train,epochs=40)"
=======
    "# Build ANN model\n",
    "model = Sequential([\n",
    "    Dense(64, activation='relu', input_shape=(X_train.shape[1],)),\n",
    "    Dropout(0.3),  # Prevents overfitting\n",
    "    Dense(32, activation='relu'),\n",
    "    Dropout(0.3),\n",
    "    Dense(1, activation='sigmoid')  # Output layer for binary classification\n",
    "])\n",
    "\n",
    "# Compile model\n",
    "model.compile(optimizer='adam', loss='binary_crossentropy', metrics=['accuracy'])\n",
    "\n",
    "# Early stopping\n",
    "early_stopping = tf.keras.callbacks.EarlyStopping(monitor='val_loss', patience=5, restore_best_weights=True)\n",
    "\n",
    "# Train the model\n",
    "history = model.fit(X_train, y_train, epochs=50, batch_size=32, validation_split=0.2, callbacks=[early_stopping])"
>>>>>>> 0f0acaf (added code)
   ]
  },
  {
   "cell_type": "code",
<<<<<<< HEAD
   "execution_count": 62,
   "metadata": {
    "colab": {
     "base_uri": "https://localhost:8080/"
    },
    "id": "ByPa7h7dVcBu",
    "outputId": "0ffcde2f-8acc-46ca-a903-80641748b954"
   },
   "outputs": [
    {
     "data": {
      "text/html": [
       "<style>#sk-container-id-2 {color: black;}#sk-container-id-2 pre{padding: 0;}#sk-container-id-2 div.sk-toggleable {background-color: white;}#sk-container-id-2 label.sk-toggleable__label {cursor: pointer;display: block;width: 100%;margin-bottom: 0;padding: 0.3em;box-sizing: border-box;text-align: center;}#sk-container-id-2 label.sk-toggleable__label-arrow:before {content: \"▸\";float: left;margin-right: 0.25em;color: #696969;}#sk-container-id-2 label.sk-toggleable__label-arrow:hover:before {color: black;}#sk-container-id-2 div.sk-estimator:hover label.sk-toggleable__label-arrow:before {color: black;}#sk-container-id-2 div.sk-toggleable__content {max-height: 0;max-width: 0;overflow: hidden;text-align: left;background-color: #f0f8ff;}#sk-container-id-2 div.sk-toggleable__content pre {margin: 0.2em;color: black;border-radius: 0.25em;background-color: #f0f8ff;}#sk-container-id-2 input.sk-toggleable__control:checked~div.sk-toggleable__content {max-height: 200px;max-width: 100%;overflow: auto;}#sk-container-id-2 input.sk-toggleable__control:checked~label.sk-toggleable__label-arrow:before {content: \"▾\";}#sk-container-id-2 div.sk-estimator input.sk-toggleable__control:checked~label.sk-toggleable__label {background-color: #d4ebff;}#sk-container-id-2 div.sk-label input.sk-toggleable__control:checked~label.sk-toggleable__label {background-color: #d4ebff;}#sk-container-id-2 input.sk-hidden--visually {border: 0;clip: rect(1px 1px 1px 1px);clip: rect(1px, 1px, 1px, 1px);height: 1px;margin: -1px;overflow: hidden;padding: 0;position: absolute;width: 1px;}#sk-container-id-2 div.sk-estimator {font-family: monospace;background-color: #f0f8ff;border: 1px dotted black;border-radius: 0.25em;box-sizing: border-box;margin-bottom: 0.5em;}#sk-container-id-2 div.sk-estimator:hover {background-color: #d4ebff;}#sk-container-id-2 div.sk-parallel-item::after {content: \"\";width: 100%;border-bottom: 1px solid gray;flex-grow: 1;}#sk-container-id-2 div.sk-label:hover label.sk-toggleable__label {background-color: #d4ebff;}#sk-container-id-2 div.sk-serial::before {content: \"\";position: absolute;border-left: 1px solid gray;box-sizing: border-box;top: 0;bottom: 0;left: 50%;z-index: 0;}#sk-container-id-2 div.sk-serial {display: flex;flex-direction: column;align-items: center;background-color: white;padding-right: 0.2em;padding-left: 0.2em;position: relative;}#sk-container-id-2 div.sk-item {position: relative;z-index: 1;}#sk-container-id-2 div.sk-parallel {display: flex;align-items: stretch;justify-content: center;background-color: white;position: relative;}#sk-container-id-2 div.sk-item::before, #sk-container-id-2 div.sk-parallel-item::before {content: \"\";position: absolute;border-left: 1px solid gray;box-sizing: border-box;top: 0;bottom: 0;left: 50%;z-index: -1;}#sk-container-id-2 div.sk-parallel-item {display: flex;flex-direction: column;z-index: 1;position: relative;background-color: white;}#sk-container-id-2 div.sk-parallel-item:first-child::after {align-self: flex-end;width: 50%;}#sk-container-id-2 div.sk-parallel-item:last-child::after {align-self: flex-start;width: 50%;}#sk-container-id-2 div.sk-parallel-item:only-child::after {width: 0;}#sk-container-id-2 div.sk-dashed-wrapped {border: 1px dashed gray;margin: 0 0.4em 0.5em 0.4em;box-sizing: border-box;padding-bottom: 0.4em;background-color: white;}#sk-container-id-2 div.sk-label label {font-family: monospace;font-weight: bold;display: inline-block;line-height: 1.2em;}#sk-container-id-2 div.sk-label-container {text-align: center;}#sk-container-id-2 div.sk-container {/* jupyter's `normalize.less` sets `[hidden] { display: none; }` but bootstrap.min.css set `[hidden] { display: none !important; }` so we also need the `!important` here to be able to override the default hidden behavior on the sphinx rendered scikit-learn.org. See: https://github.com/scikit-learn/scikit-learn/issues/21755 */display: inline-block !important;position: relative;}#sk-container-id-2 div.sk-text-repr-fallback {display: none;}</style><div id=\"sk-container-id-2\" class=\"sk-top-container\"><div class=\"sk-text-repr-fallback\"><pre>GridSearchCV(cv=5,\n",
       "             estimator=KerasClassifier(activation=[&#x27;sigmoid&#x27;, &#x27;relu&#x27;], batch_size=[128, 256], build_fn=&lt;function build_model at 0x7f3b4a058e00&gt;, layers=[(40, 20), (45, 30, 15), (60, 40, 25, 10), (80, 60, 40, 25, 10)], verbose=0),\n",
       "             param_grid={&#x27;activation&#x27;: [&#x27;sigmoid&#x27;, &#x27;relu&#x27;],\n",
       "                         &#x27;batch_size&#x27;: [128, 256],\n",
       "                         &#x27;layers&#x27;: [(40, 20), (45, 30, 15), (60, 40, 25, 10),\n",
       "                                    (80, 60, 40, 25, 10)]})</pre><b>In a Jupyter environment, please rerun this cell to show the HTML representation or trust the notebook. <br />On GitHub, the HTML representation is unable to render, please try loading this page with nbviewer.org.</b></div><div class=\"sk-container\" hidden><div class=\"sk-item sk-dashed-wrapped\"><div class=\"sk-label-container\"><div class=\"sk-label sk-toggleable\"><input class=\"sk-toggleable__control sk-hidden--visually\" id=\"sk-estimator-id-4\" type=\"checkbox\" ><label for=\"sk-estimator-id-4\" class=\"sk-toggleable__label sk-toggleable__label-arrow\">GridSearchCV</label><div class=\"sk-toggleable__content\"><pre>GridSearchCV(cv=5,\n",
       "             estimator=KerasClassifier(activation=[&#x27;sigmoid&#x27;, &#x27;relu&#x27;], batch_size=[128, 256], build_fn=&lt;function build_model at 0x7f3b4a058e00&gt;, layers=[(40, 20), (45, 30, 15), (60, 40, 25, 10), (80, 60, 40, 25, 10)], verbose=0),\n",
       "             param_grid={&#x27;activation&#x27;: [&#x27;sigmoid&#x27;, &#x27;relu&#x27;],\n",
       "                         &#x27;batch_size&#x27;: [128, 256],\n",
       "                         &#x27;layers&#x27;: [(40, 20), (45, 30, 15), (60, 40, 25, 10),\n",
       "                                    (80, 60, 40, 25, 10)]})</pre></div></div></div><div class=\"sk-parallel\"><div class=\"sk-parallel-item\"><div class=\"sk-item\"><div class=\"sk-label-container\"><div class=\"sk-label sk-toggleable\"><input class=\"sk-toggleable__control sk-hidden--visually\" id=\"sk-estimator-id-5\" type=\"checkbox\" ><label for=\"sk-estimator-id-5\" class=\"sk-toggleable__label sk-toggleable__label-arrow\">estimator: KerasClassifier</label><div class=\"sk-toggleable__content\"><pre>KerasClassifier(\n",
       "\tmodel=None\n",
       "\tbuild_fn=&lt;function build_model at 0x7f3b4a058e00&gt;\n",
       "\twarm_start=False\n",
       "\trandom_state=None\n",
       "\toptimizer=rmsprop\n",
       "\tloss=None\n",
       "\tmetrics=None\n",
       "\tbatch_size=[128, 256]\n",
       "\tvalidation_batch_size=None\n",
       "\tverbose=0\n",
       "\tcallbacks=None\n",
       "\tvalidation_split=0.0\n",
       "\tshuffle=True\n",
       "\trun_eagerly=False\n",
       "\tepochs=1\n",
       "\tactivation=[&#x27;sigmoid&#x27;, &#x27;relu&#x27;]\n",
       "\tlayers=[(40, 20), (45, 30, 15), (60, 40, 25, 10), (80, 60, 40, 25, 10)]\n",
       "\tclass_weight=None\n",
       ")</pre></div></div></div><div class=\"sk-serial\"><div class=\"sk-item\"><div class=\"sk-estimator sk-toggleable\"><input class=\"sk-toggleable__control sk-hidden--visually\" id=\"sk-estimator-id-6\" type=\"checkbox\" ><label for=\"sk-estimator-id-6\" class=\"sk-toggleable__label sk-toggleable__label-arrow\">KerasClassifier</label><div class=\"sk-toggleable__content\"><pre>KerasClassifier(\n",
       "\tmodel=None\n",
       "\tbuild_fn=&lt;function build_model at 0x7f3b4a058e00&gt;\n",
       "\twarm_start=False\n",
       "\trandom_state=None\n",
       "\toptimizer=rmsprop\n",
       "\tloss=None\n",
       "\tmetrics=None\n",
       "\tbatch_size=[128, 256]\n",
       "\tvalidation_batch_size=None\n",
       "\tverbose=0\n",
       "\tcallbacks=None\n",
       "\tvalidation_split=0.0\n",
       "\tshuffle=True\n",
       "\trun_eagerly=False\n",
       "\tepochs=1\n",
       "\tactivation=[&#x27;sigmoid&#x27;, &#x27;relu&#x27;]\n",
       "\tlayers=[(40, 20), (45, 30, 15), (60, 40, 25, 10), (80, 60, 40, 25, 10)]\n",
       "\tclass_weight=None\n",
       ")</pre></div></div></div></div></div></div></div></div></div></div>"
      ],
      "text/plain": [
       "GridSearchCV(cv=5,\n",
       "             estimator=KerasClassifier(activation=['sigmoid', 'relu'], batch_size=[128, 256], build_fn=<function build_model at 0x7f3b4a058e00>, layers=[(40, 20), (45, 30, 15), (60, 40, 25, 10), (80, 60, 40, 25, 10)], verbose=0),\n",
       "             param_grid={'activation': ['sigmoid', 'relu'],\n",
       "                         'batch_size': [128, 256],\n",
       "                         'layers': [(40, 20), (45, 30, 15), (60, 40, 25, 10),\n",
       "                                    (80, 60, 40, 25, 10)]})"
      ]
     },
     "execution_count": 62,
     "metadata": {},
     "output_type": "execute_result"
    }
   ],
   "source": [
    "grid_result"
=======
   "execution_count": 51,
   "metadata": {},
   "outputs": [
    {
     "name": "stdout",
     "output_type": "stream",
     "text": [
      "\u001b[1m125/125\u001b[0m \u001b[32m━━━━━━━━━━━━━━━━━━━━\u001b[0m\u001b[37m\u001b[0m \u001b[1m0s\u001b[0m 2ms/step - accuracy: 0.8397 - loss: 0.3703\n",
      "Test Accuracy: 0.8395\n",
      "\u001b[1m125/125\u001b[0m \u001b[32m━━━━━━━━━━━━━━━━━━━━\u001b[0m\u001b[37m\u001b[0m \u001b[1m0s\u001b[0m 959us/step\n"
     ]
    }
   ],
   "source": [
    "# Evaluate model\n",
    "loss, accuracy = model.evaluate(X_test, y_test)\n",
    "print(f\"Test Accuracy: {accuracy:.4f}\")\n",
    "\n",
    "# Predict\n",
    "y_pred = (model.predict(X_test) > 0.5).astype(int)\n"
>>>>>>> 0f0acaf (added code)
   ]
  },
  {
   "cell_type": "code",
<<<<<<< HEAD
   "execution_count": 63,
   "metadata": {
    "colab": {
     "base_uri": "https://localhost:8080/"
    },
    "id": "bOxq_wnvVcFs",
    "outputId": "2cf233e6-193d-4899-84e5-8ff1eae12825"
   },
   "outputs": [
    {
     "data": {
      "text/plain": [
       "[0.8272760832206238,\n",
       " {'activation': 'relu', 'batch_size': 256, 'layers': (80, 60, 40, 25, 10)}]"
      ]
     },
     "execution_count": 63,
     "metadata": {},
     "output_type": "execute_result"
    }
   ],
   "source": [
    "[grid_result.best_score_,grid_result.best_params_]"
   ]
  },
  {
   "cell_type": "code",
   "execution_count": 64,
   "metadata": {
    "id": "8jY0WhVwVcJh"
   },
   "outputs": [],
   "source": [
    "y_pred=grid.predict(X_test)"
   ]
  },
  {
   "cell_type": "code",
   "execution_count": 65,
=======
   "execution_count": 53,
>>>>>>> 0f0acaf (added code)
   "metadata": {},
   "outputs": [
    {
     "name": "stdout",
     "output_type": "stream",
     "text": [
      "              precision    recall  f1-score   support\n",
      "\n",
<<<<<<< HEAD
      "           0       0.83      0.84      0.83      2036\n",
      "           1       0.83      0.82      0.82      1946\n",
      "\n",
      "    accuracy                           0.83      3982\n",
      "   macro avg       0.83      0.83      0.83      3982\n",
      "weighted avg       0.83      0.83      0.83      3982\n",
=======
      "           0       0.85      0.84      0.84      2036\n",
      "           1       0.83      0.84      0.84      1946\n",
      "\n",
      "    accuracy                           0.84      3982\n",
      "   macro avg       0.84      0.84      0.84      3982\n",
      "weighted avg       0.84      0.84      0.84      3982\n",
>>>>>>> 0f0acaf (added code)
      "\n"
     ]
    }
   ],
   "source": [
    "from sklearn.metrics import classification_report, confusion_matrix \n",
    "print(classification_report(y_test, y_pred))"
   ]
  },
  {
   "cell_type": "code",
<<<<<<< HEAD
   "execution_count": 66,
=======
   "execution_count": 54,
>>>>>>> 0f0acaf (added code)
   "metadata": {
    "colab": {
     "base_uri": "https://localhost:8080/"
    },
    "id": "xAca49CHV3zx",
    "outputId": "3acee4e3-ee72-4512-d012-c5d59a368674"
   },
   "outputs": [
    {
     "data": {
      "text/plain": [
<<<<<<< HEAD
       "array([[1704,  332],\n",
       "       [ 359, 1587]])"
      ]
     },
     "execution_count": 66,
=======
       "array([[1709,  327],\n",
       "       [ 312, 1634]])"
      ]
     },
     "execution_count": 54,
>>>>>>> 0f0acaf (added code)
     "metadata": {},
     "output_type": "execute_result"
    }
   ],
   "source": [
    "confusion_m=confusion_matrix(y_test,y_pred )\n",
    "confusion_m"
   ]
  },
  {
   "cell_type": "code",
<<<<<<< HEAD
   "execution_count": 67,
=======
   "execution_count": 55,
>>>>>>> 0f0acaf (added code)
   "metadata": {
    "colab": {
     "base_uri": "https://localhost:8080/",
     "height": 284
    },
    "id": "sTl1pjKHV32O",
    "outputId": "f5395c04-5575-4c33-b1e0-bcb759dd5827"
   },
   "outputs": [
    {
     "data": {
      "text/plain": [
       "<Axes: >"
      ]
     },
<<<<<<< HEAD
     "execution_count": 67,
=======
     "execution_count": 55,
>>>>>>> 0f0acaf (added code)
     "metadata": {},
     "output_type": "execute_result"
    },
    {
     "data": {
<<<<<<< HEAD
      "image/png": "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",
=======
      "image/png": "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",
>>>>>>> 0f0acaf (added code)
      "text/plain": [
       "<Figure size 640x480 with 2 Axes>"
      ]
     },
     "metadata": {},
     "output_type": "display_data"
    }
   ],
   "source": [
    "sns.heatmap(confusion_m, annot=True)"
   ]
  }
 ],
 "metadata": {
  "accelerator": "GPU",
  "colab": {
   "authorship_tag": "ABX9TyMfgdScEFnB4BR/r4s2Wb56",
   "collapsed_sections": [],
   "mount_file_id": "1e7lqhncXRW6-LAEHXjXGk3FH1I0OUKYE",
   "name": "DL_customer_churn.ipynb",
   "provenance": []
  },
  "kernelspec": {
<<<<<<< HEAD
   "display_name": "Python 3 (ipykernel)",
=======
   "display_name": "venv",
>>>>>>> 0f0acaf (added code)
   "language": "python",
   "name": "python3"
  },
  "language_info": {
   "codemirror_mode": {
    "name": "ipython",
    "version": 3
   },
   "file_extension": ".py",
   "mimetype": "text/x-python",
   "name": "python",
   "nbconvert_exporter": "python",
   "pygments_lexer": "ipython3",
<<<<<<< HEAD
   "version": "3.11.3"
=======
   "version": "3.12.7"
>>>>>>> 0f0acaf (added code)
  }
 },
 "nbformat": 4,
 "nbformat_minor": 1
}
