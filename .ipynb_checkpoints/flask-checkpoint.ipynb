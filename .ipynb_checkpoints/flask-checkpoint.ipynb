{
 "cells": [
  {
   "cell_type": "code",
   "execution_count": 5,
   "id": "bedfe093",
   "metadata": {},
   "outputs": [
    {
     "ename": "IndentationError",
     "evalue": "unindent does not match any outer indentation level (<tokenize>, line 34)",
     "output_type": "error",
     "traceback": [
      "\u001b[0;36m  File \u001b[0;32m<tokenize>:34\u001b[0;36m\u001b[0m\n\u001b[0;31m    '''\u001b[0m\n\u001b[0m    ^\u001b[0m\n\u001b[0;31mIndentationError\u001b[0m\u001b[0;31m:\u001b[0m unindent does not match any outer indentation level\n"
     ]
    }
   ],
   "source": [
    "import numpy as np\n",
    "from flask import Flask, request, render_template\n",
    "import pickle\n",
    "\n",
    "app = Flask(__name__)\n",
    "model = pickle.load(open('pickle.pkl', 'rb'))\n",
    "    \n",
    "@app.route('/')\n",
    "def home():\n",
    "    return render_template('home.html')\n",
    "   \n",
    "\n",
    "@app.route('/predict', methods=['POST'])\n",
    "def predict():\n",
    "    if request.method == 'POST':\n",
    "        \n",
    "        CreditScore=int(request.form[\"CreditScore\"])\n",
    "        Geography=int(request.form[\"Geography\"])\n",
    "        Gender=int(request.form[\"Gender\"])\n",
    "        Age=int(request.form[\"Age\"])\n",
    "        Tenure=int(request.form[\"Tenure\"])\n",
    "        Balance=float(request.form[\"Balance\"])\n",
    "        NumOfProducts=int(request.form[\"NumOfProducts\"])\n",
    "        HasCrCard=int(request.form[\"HasCrCard\"])\n",
    "        IsActiveMember=int(request.form[\"IsActiveMember\"])\n",
    "        EstimatedSalary=float(request.form[\"EstimatedSalary\"])\n",
    "        \n",
    "                      \n",
    "        data = np.array([[CreditScore,Geography,Gender,Age,Tenure,Balance,NumOfProducts,HasCrCard,IsActiveMember,EstimatedSalary]])\n",
    "        my_prediction = model.predict(data)\n",
    "        \n",
    "        return render_template('result.html', prediction=my_prediction)\n",
    "        \n",
    " '''       \n",
    "if __name__ == \"__main__\":\n",
    "     app.run(host=os.getenv('IP', '0.0.0.0'), \n",
    "            port=int(os.getenv('PORT', 4444)))'''\n",
    "\n",
    "if __name__ == \"__main__\":\n",
    "    app.run()"
   ]
  },
  {
   "cell_type": "code",
   "execution_count": null,
   "id": "2ed16118",
   "metadata": {},
   "outputs": [],
   "source": []
  }
 ],
 "metadata": {
  "kernelspec": {
   "display_name": "Python 3 (ipykernel)",
   "language": "python",
   "name": "python3"
  },
  "language_info": {
   "codemirror_mode": {
    "name": "ipython",
    "version": 3
   },
   "file_extension": ".py",
   "mimetype": "text/x-python",
   "name": "python",
   "nbconvert_exporter": "python",
   "pygments_lexer": "ipython3",
   "version": "3.10.8"
  }
 },
 "nbformat": 4,
 "nbformat_minor": 5
}
